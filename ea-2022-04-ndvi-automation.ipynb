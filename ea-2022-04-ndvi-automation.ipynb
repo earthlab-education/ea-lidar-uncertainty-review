{
 "cells": [
  {
   "cell_type": "markdown",
   "metadata": {},
   "source": [
    "<img style=\"float: left;\" src=\"earth-lab-logo-rgb.png\" width=\"150\" height=\"150\" />\n",
    "\n",
    "# Earth Analytics Education - EA  Python Course Spring 2021"
   ]
  },
  {
   "cell_type": "markdown",
   "metadata": {},
   "source": [
    "## Important  - Assignment Guidelines\n",
    "\n",
    "1. Before you submit your assignment to GitHub, make sure to run the entire notebook with a fresh kernel. To do this first, **restart the kernel** (in the menubar, select Kernel$\\rightarrow$Restart & Run All)\n",
    "2. Always replace the `raise NotImplementedError()` code with your code that addresses the activity challenge. If you don't replace that code, your notebook will not run.\n",
    "\n",
    "```\n",
    "# YOUR CODE HERE\n",
    "raise NotImplementedError()\n",
    "```\n",
    "\n",
    "3. Any open ended questions will have a \"YOUR ANSWER HERE\" within a markdown cell. Replace that text with your answer also formatted using Markdown.\n",
    "4. **DO NOT RENAME THIS NOTEBOOK File!** If the file name changes, the autograder will not grade your assignment properly.\n",
    "6. When you create a figure, comment out `plt.show()` to ensure the autograder can grade your plots. For figure cells, DO NOT DELETE the code that says `DO NOT REMOVE LINE BELOW`.\n",
    "\n",
    "```\n",
    "### DO NOT REMOVE LINE BELOW ###\n",
    "student_plot1_ax = nb.convert_axes(plt)\n",
    "```\n",
    "\n",
    "* Only include the package imports, code, and outputs that are required to run your homework assignment.\n",
    "* Be sure that your code can be run on any operating system. This means that:\n",
    "   1. the data should be downloaded in the notebook to ensure it's reproducible\n",
    "   2. all paths should be created dynamically using the `os.path.join`\n",
    "\n",
    "## Follow to PEP 8 Syntax Guidelines & Documentation\n",
    "\n",
    "* Run the `autopep8` tool on all cells prior to submitting (HINT: hit shift + the tool to run it on all cells at once!\n",
    "* Use clear and expressive names for variables. \n",
    "* Organize your code to support readability.\n",
    "* Check for code line length\n",
    "* Use comments and white space sparingly where it is needed\n",
    "* Make sure all python imports are at the top of your notebook and follow PEP 8 order conventions\n",
    "* Spell check your Notebook before submitting it.\n",
    "\n",
    "For all of the plots below, be sure to do the following:\n",
    "\n",
    "* Make sure each plot has a clear TITLE and, where appropriate, label the x and y axes. Be sure to include UNITS in your labels.\n"
   ]
  },
  {
   "cell_type": "markdown",
   "metadata": {},
   "source": [
    "### Add Your Name Below \n",
    "**Your Name: Jacquelyn Witte**"
   ]
  },
  {
   "cell_type": "markdown",
   "metadata": {},
   "source": [
    "<img style=\"float: left;\" src=\"colored-bar.png\"/>"
   ]
  },
  {
   "cell_type": "markdown",
   "metadata": {},
   "source": [
    "---"
   ]
  },
  {
   "cell_type": "markdown",
   "metadata": {
    "deletable": false,
    "editable": false,
    "nbgrader": {
     "cell_type": "markdown",
     "checksum": "482b6a6fad5a6b7297cd1f14b52b28e1",
     "grade": false,
     "grade_id": "hw-instructions",
     "locked": true,
     "schema_version": 3,
     "solution": false,
     "task": false
    }
   },
   "source": [
    "# Week 04 and 05 Homework - Automate NDVI Workflow\n",
    "\n",
    "For this assignment, you will write code to generate a plot of the mean normalized difference vegetation index (NDVI) for two different sites in the United States across one year of data:\n",
    "\n",
    "* San Joaquin Experimental Range (SJER) in Southern California, United States\n",
    "* Harvard Forest (HARV) in the Northeastern United States\n",
    "\n",
    "The data that you will use for this week is available from **earthpy** using the following download: \n",
    "\n",
    "`et.data.get_data('ndvi-automation')`\n",
    "\n",
    "## Assignment Goals\n",
    "\n",
    "Your goal in this assignment is to create the most efficient and concise workflow that you can that allows for:\n",
    "\n",
    "1. The code to scale if you added new sites or more time periods to the analysis.\n",
    "2. Someone else to understand your workflow.\n",
    "3. The LEAST and most efficient (i.e. runs fast, minimize repetition) amount of code that completes the task.\n",
    "\n",
    "### HINTS\n",
    "\n",
    "* Remove values outside of the landsat valid range of values as specified in the metadata, as needed.\n",
    "* Keep any output files SEPARATE FROM input files. Outputs should be created in an outputs directory that is created in the code (if needed) and/or tested for.\n",
    "* Use the functions that we demonstrated during class to make your workflow more efficient.\n",
    "* BONUS - if you  chose - you can export your data as a csv file. You will get bonus points for doing this.\n",
    "\n",
    "\n",
    "## Assignment Requirements\n",
    "\n",
    "Your submission to the GitHub repository should include:\n",
    "* This Jupyter Notebook file (.ipynb) with:\n",
    "    * The code to create a plot of mean NDVI across a year for  2 NEON Field Sites:\n",
    "        * NDVI on the x axis and formatted dates on the y for both NEON sites on one figure/axis object\n",
    "    * The **data should be cleaned to remove the influence of clouds**. See the [earthdatascience website for an example of what your plot might look like with and without removal of clouds](https://www.earthdatascience.org/courses/earth-analytics-python/create-efficient-data-workflows/).\n",
    "* BONUS: Create one output `.csv` file that has 3 columns - NDVI, Date and Site Name - with values for SJER and HARV.\n",
    "\n",
    "Your notebook should:\n",
    "* Have *at least* 2 well documented and well named functions with docstrings.\n",
    "* Include a Markdown cell at the top of the notebook that outlines the overall workflow using pseudocode (i.e. plain language, not code)\n",
    "* Include additional Markdown cells throughout the notebook to describe: \n",
    "    * the data that you used - and where it is from\n",
    "    * how data are being processing\n",
    "    * how the code is optimized to run fast and be more concise"
   ]
  },
  {
   "cell_type": "markdown",
   "metadata": {
    "deletable": false,
    "editable": false,
    "nbgrader": {
     "cell_type": "markdown",
     "checksum": "ca51bc48f62e7d3602d0567f742e1b15",
     "grade": false,
     "grade_id": "pseudo-code",
     "locked": true,
     "points": 15,
     "schema_version": 3,
     "solution": false,
     "task": true
    }
   },
   "source": [
    "# Replace this cell with your pseudocode  for this workflow\n",
    "\n",
    "If you happen to be a diagram person a diagram is ok too\n",
    "\n"
   ]
  },
  {
   "cell_type": "markdown",
   "metadata": {},
   "source": [
    "# Pseudocode for this workflow"
   ]
  },
  {
   "cell_type": "markdown",
   "metadata": {},
   "source": [
    "### There are three required files to get a single mean NDVI value:\n",
    "    1. Landsat tif\n",
    "    2. Landsat QC tif\n",
    "    3. Landsat shapefile\n",
    "\n",
    "### The basic flow to calculate the mean NDVI for a single date of measurements:\n",
    "- Read the image tifs\n",
    "- Read the QA tif\n",
    "- Read the shapefile\n",
    "- Merge the individual tif bands into a single xarray\n",
    "- Crop the dataArray using the shapefile\n",
    "- Clean the cropped dataArray - remove 0's and high values\n",
    "- Mask the dataArray using the QA tif\n",
    "- Calculate the NDVI\n",
    "- Calculate the mean NDVI\n",
    "- Turn it into a dataFrame\n",
    "- Plot it\n",
    "\n",
    "The idea is to create many functions to perform most of the outlined steps above. When looping through all the data directories to calculate a single mean NDVI value and grab it's metadata, the sequence of code will be a series of function calls only.\n",
    "\n",
    "Note, that I am choosing to read all the bands so there is the option to look at RGB or CIR in the future. \n",
    "\n",
    "### Function 1 - Retrieve tif files\n",
    "\n",
    "    bands_tif = sorted(os.path.join(landsat_path,'*band[2-5]*.tif'))\n",
    "    qa_tif = os.path.join(landsat_path,'*qa*.tif')\n",
    "\n",
    "### Function 2 - Key metadata: date and site\n",
    "\n",
    "    site = filepath.split('/')[2]\n",
    "    date = datetime.strptime(filepath.split('T')[0][-10:-2], \"%Y%m%d\")\n",
    "\n",
    "### Function 3 - Consolidated Landsat image, cropped and cloud-free\n",
    "\n",
    "    # For loop over tif files and append to a list.\n",
    "    all_bands = []\n",
    "    for i, aband in enumerate(files):\n",
    "        all_bands.append(rxr.open_rasterio(aband, masked=True).squeeze())\n",
    "        # Assign a band number to the new xarray object\n",
    "        all_bands[i][\"band\"] = i+1\n",
    "        \n",
    "    # Turn list of bands into a single xarray object\n",
    "    - Create xarray.DataArray with xr.concat()\n",
    "    \n",
    "    # Crop the data to the shapefile\n",
    "    - Use dataArray.rio.clip(crop_boundary.geometry) method\n",
    "    \n",
    "    # IMPORTANT: Clean the dataArray - remove 0's and high values\n",
    "    # I went with a less elegant but explicit and clear code that I can understand. \n",
    "    data_nozeros_xr = data_xr_crop.where(data_xr_crop > 0, np.nan)\n",
    "    data_nozeros_xr = data_nozeros_xr.where(data_nozeros_xr < 10000, np.nan)\n",
    "\n",
    "### Function 4 - Apply cloud mask\n",
    "\n",
    "Reference: https://github.com/earthlab-education/ea-python-course-notebooks/\n",
    "                       blob/main/2022/completed-demos/05-l1-landsat-cloud-masks.ipynb\n",
    "\n",
    "    # Read the QA file\n",
    "    qa_xr = rxr.open_rasterio(qa_file).squeeze()\n",
    "    \n",
    "    # Create cloud mask using earthpy mask package for Landsat imagery\n",
    "    high_cloud_confidence = (\n",
    "        em.pixel_flags[\"pixel_qa\"][\"L8\"][\"High Cloud Confidence\"])\n",
    "    cloud = em.pixel_flags[\"pixel_qa\"][\"L8\"][\"Cloud\"]\n",
    "    cloud_shadow = em.pixel_flags[\"pixel_qa\"][\"L8\"][\"Cloud Shadow\"]\n",
    "    \n",
    "    # Add up all the mask values\n",
    "    all_masked_values = cloud_shadow + cloud + high_cloud_confidence\n",
    "    \n",
    "    # Apply the masking to the data xarray\n",
    "    data_cld_free_xr = data_xr.where(~qa_xr.isin(all_masked_values))\n",
    "\n",
    "### Function 5 - Calculate NDVI and take the mean\n",
    "\n",
    "    ndvi_xr = es.normalized_diff(data_xr[3], data_xr[2])\n",
    "    # IMPORTANT: Replace dataArray NAN with numpy NAN. \n",
    "    # Otherwise there are warnings when creating a dataFrame\n",
    "\n",
    "## -------------------------------------------------------------------------- \n",
    "## Main code to process mean NDVI time series from multiple sites\n",
    "\n",
    "\n",
    "### Get the site name from the base folders\n",
    "    base_path = os.path.join('ndvi-automation',\n",
    "                         'sites')\n",
    "    sitenames = os.listdir(base_path)\n",
    "\n",
    "### Initialize the desired variables that will define the dataFrame\n",
    "    date = []\n",
    "    site = []\n",
    "    mean_ndvi = []\n",
    "\n",
    "### Parent loop - over the sites\n",
    "    for s in sitenames:\n",
    "        # Read the shapefile from the base_path\n",
    "        shapefile = glob(os.path.join(base_path, s, 'vector', '*shp'))[0]\n",
    "        landsat_buffer_shp = gpd.read_file(shapefile)\n",
    "        \n",
    "    # Loop through all the Landsat directories per site\n",
    "    for fdir in sorted(glob(os.path.join(base_path, s, 'landsat-crop', '*'))):\n",
    "\n",
    "        # Get the Bands and QA files per data directory\n",
    "        Call Function 1\n",
    "\n",
    "        # Get the site name and date\n",
    "        Call Function 2\n",
    "        Append to date and site\n",
    "\n",
    "        # Read the Landsat data - bands into a single dataArray, cropped to the shapefile\n",
    "        Call Function 3\n",
    "\n",
    "        # Apply cloud mask\n",
    "        Call Function 4\n",
    "\n",
    "        # Calculate the mean ndvi\n",
    "        Call Function 5\n",
    "        Append to mean_ndvi\n",
    "\n",
    "### Create a pandas dataFrame via a dictionary\n",
    "    dict = {'Date': date,\n",
    "        'site': site,\n",
    "        'mean_ndvi': mean_ndvi}\n",
    "    ndvi_df = pd.DataFrame(dict).set_index('Date')\n",
    "\n",
    "## ------------- Create the Figure ---------------------- \n",
    " \n",
    "#### Reference to ignore NaN: https://www.bmc.com/blogs/pandas-nan-missing-data/\n",
    "\n",
    "    fig, ax = plt.subplots(figsize=(12, 6))\n",
    "\n",
    "    for s, df in ndvi_df.dropna().groupby('site'):\n",
    "        ax.plot(df['mean_ndvi'],\n",
    "            'o-',\n",
    "            label=s)\n",
    "\n",
    "    title = 'Mean NDVI from Landsat 8 (Cloud-free)\\nMeasurements taken in 2017'\n",
    "    ax.set(title=title,\n",
    "           xlabel='Month',\n",
    "           ylabel='NDVI')\n",
    "    ax.legend()\n"
   ]
  },
  {
   "cell_type": "code",
   "execution_count": 1,
   "metadata": {
    "deletable": false,
    "editable": false,
    "nbgrader": {
     "cell_type": "code",
     "checksum": "9c7cd3e2e5089092e06ba301f2719a63",
     "grade": false,
     "grade_id": "core-imports",
     "locked": true,
     "schema_version": 3,
     "solution": false,
     "task": false
    }
   },
   "outputs": [],
   "source": [
    "# Autograding imports - do not modify this cell\n",
    "import matplotcheck.autograde as ag\n",
    "import matplotcheck.notebook as nb\n",
    "import matplotcheck.timeseries as ts\n",
    "from datetime import datetime"
   ]
  },
  {
   "cell_type": "code",
   "execution_count": 2,
   "metadata": {
    "deletable": false,
    "nbgrader": {
     "cell_type": "code",
     "checksum": "3c4d1141999885a9a9b09772962b180a",
     "grade": true,
     "grade_id": "student-imports-answer",
     "locked": false,
     "points": 10,
     "schema_version": 3,
     "solution": true,
     "task": false
    },
    "tags": [
     "hide",
     "hide_output"
    ]
   },
   "outputs": [],
   "source": [
    "# Import needed packages in PEP 8 order\n",
    "# and no unused imports listed (10 points total)\n",
    "\n",
    "import os\n",
    "from glob import glob\n",
    "\n",
    "import earthpy as et\n",
    "import earthpy.mask as em\n",
    "import earthpy.plot as ep\n",
    "import earthpy.spatial as es\n",
    "import geopandas as gpd\n",
    "import matplotlib.pyplot as plt\n",
    "from matplotlib.dates import DateFormatter\n",
    "import numpy as np\n",
    "import pandas as pd\n",
    "import rioxarray as rxr\n",
    "import seaborn as sns\n",
    "import xarray as xr\n",
    "\n",
    "# Prettier plotting with seaborn\n",
    "sns.set(font_scale=1.3, style=\"whitegrid\")"
   ]
  },
  {
   "cell_type": "code",
   "execution_count": 3,
   "metadata": {},
   "outputs": [
    {
     "data": {
      "text/plain": [
       "'/Users/jwitte/earth-analytics/data/ndvi-automation/.'"
      ]
     },
     "execution_count": 3,
     "metadata": {},
     "output_type": "execute_result"
    }
   ],
   "source": [
    "# Download data\n",
    "et.data.get_data('ndvi-automation')"
   ]
  },
  {
   "cell_type": "code",
   "execution_count": 4,
   "metadata": {},
   "outputs": [],
   "source": [
    "# Change to data directory\n",
    "data_dir = os.path.join(et.io.HOME,\n",
    "                        'earth-analytics',\n",
    "                        'data')\n",
    "os.chdir(data_dir)"
   ]
  },
  {
   "cell_type": "code",
   "execution_count": 5,
   "metadata": {
    "deletable": false,
    "editable": false,
    "hideCode": false,
    "hidePrompt": false,
    "nbgrader": {
     "cell_type": "code",
     "checksum": "dcf5b59326bf066172ff61520b658a3d",
     "grade": true,
     "grade_id": "student-download-tests",
     "locked": true,
     "points": 0,
     "schema_version": 3,
     "solution": false,
     "task": false
    }
   },
   "outputs": [
    {
     "name": "stdout",
     "output_type": "stream",
     "text": [
      "✅ Great - it looks like your working directory is set correctly to ~/earth-analytics/data\n"
     ]
    }
   ],
   "source": [
    "# DO NOT MODIFY THIS CELL\n",
    "# Tests that the working directory is set to earth-analytics/data\n",
    "\n",
    "path = os.path.normpath(os.getcwd())\n",
    "student_wd_parts = path.split(os.sep)\n",
    "\n",
    "if student_wd_parts[-2:] == ['earth-analytics', 'data']:\n",
    "    print(\"\\u2705 Great - it looks like your working directory is set correctly to ~/earth-analytics/data\")\n",
    "else:\n",
    "    print(\"\\u274C Oops, the autograder will not run unless your working directory is set to earth-analytics/data\")"
   ]
  },
  {
   "cell_type": "markdown",
   "metadata": {
    "deletable": false,
    "editable": false,
    "nbgrader": {
     "cell_type": "markdown",
     "checksum": "35205d12dc9e8fa05a26fb927c0a2307",
     "grade": false,
     "grade_id": "ndvi-mean-site-instructions",
     "locked": true,
     "schema_version": 3,
     "solution": false,
     "task": false
    }
   },
   "source": [
    "# Figure 1: Plot 1 - Mean NDVI For Each Site Across the Year (50 points)\n",
    "\n",
    "Create a plot of the mean normalized difference vegetation index (NDVI) for the two different sites in the United States across the year: \n",
    "\n",
    "* NDVI on the x axis and formatted dates on the y for both NEON sites on one figure/axis object.\n",
    "* Each site should be identified with a different color in the plot and legend.\n",
    "* The final plot **data should be cleaned to remove the influence of clouds**.\n",
    "* Be sure to include appropriate title and axes labels.\n",
    "\n",
    "Add additional cells as needed for processing data (e.g. defining functions, etc), but be sure to:\n",
    "* follow the instructions in the code cells that have been provided to ensure that you are able to use the sanity check tests that are provided. \n",
    "* include only the plot code in the cell identified for the final plot code below"
   ]
  },
  {
   "cell_type": "markdown",
   "metadata": {
    "deletable": false,
    "editable": false,
    "nbgrader": {
     "cell_type": "markdown",
     "checksum": "ce17d4d685cd4c7034bd7b0bb389342a",
     "grade": false,
     "grade_id": "single-scene-instructions",
     "locked": true,
     "schema_version": 3,
     "solution": false,
     "task": false
    }
   },
   "source": [
    "## Task 1: \n",
    "\n",
    "In the cell below, create a single dataframe containing MEAN NDVI, the site name, \n",
    "and the date of the data for the HARV site \n",
    "scene `HARV/landsat-crop/LC080130302017031701T1-SC20181023151837`.  The column names for the  final\n",
    "DataFrame should be`mean_ndvi`, and `site`, and the data should be **indexed on the date**. \n",
    "\n",
    "Use the functions that we reviewed in class (or create your own versions of them) to implement your code\n",
    "\n",
    "### In the Cell below Place  All Functions Needed to Run this Notebook (20 points)"
   ]
  },
  {
   "cell_type": "code",
   "execution_count": 6,
   "metadata": {
    "deletable": false,
    "editable": false,
    "nbgrader": {
     "cell_type": "code",
     "checksum": "0ee340cd9af6c949a08eb4b325716ae0",
     "grade": false,
     "grade_id": "cell-618e3588853f3ed8",
     "locked": true,
     "schema_version": 3,
     "solution": false,
     "task": false
    }
   },
   "outputs": [],
   "source": [
    "### DO NOT REMOVE THIS LINE OR EDIT / MOVE THIS CELL ###\n",
    "start_time = datetime.now()"
   ]
  },
  {
   "cell_type": "markdown",
   "metadata": {},
   "source": [
    "### Function 1 - Retrieve tif files"
   ]
  },
  {
   "cell_type": "code",
   "execution_count": 7,
   "metadata": {},
   "outputs": [],
   "source": [
    "def find_tifs(landsat_path):\n",
    "    \"\"\"Finds all Landsat tif files in a single directory\n",
    "\n",
    "    Extracts the bands and the quality flag tifs separately\n",
    "\n",
    "    Parameters\n",
    "    ----------\n",
    "    landsat_path : String\n",
    "        Path to the directory of tif files\n",
    "\n",
    "    Returns\n",
    "    -------\n",
    "    bands_files : String\n",
    "        List of bands tif files\n",
    "        \n",
    "    qa_file : String\n",
    "        Quality flag file\n",
    "    \"\"\"\n",
    "    bands_tif = os.path.join(landsat_path,\n",
    "                             '*band[2-5]*.tif')\n",
    "    qa_tif = os.path.join(landsat_path,\n",
    "                          '*qa*.tif')\n",
    "\n",
    "    bands_files = sorted(glob(bands_tif))\n",
    "    qa_file = glob(qa_tif)[0]\n",
    "\n",
    "    return bands_files, qa_file"
   ]
  },
  {
   "cell_type": "markdown",
   "metadata": {},
   "source": [
    "### Function 2 - Retrieve key metadata: date and site"
   ]
  },
  {
   "cell_type": "code",
   "execution_count": 8,
   "metadata": {},
   "outputs": [],
   "source": [
    "def get_site_date(filepath):\n",
    "    \"\"\"Gets the date and site name from the file path\n",
    "\n",
    "    Parameters\n",
    "    ----------\n",
    "    filepath : String\n",
    "\n",
    "    Returns\n",
    "    -------\n",
    "    site : String\n",
    "    date : String\n",
    "    \"\"\"\n",
    "    site = filepath.split('/')[2]\n",
    "    date = datetime.strptime(filepath.split('T')[0][-10:-2], \"%Y%m%d\")\n",
    "\n",
    "    return site, date"
   ]
  },
  {
   "cell_type": "markdown",
   "metadata": {},
   "source": [
    "### Function 3 - Return consolidate Landsat bands that are cropped and cloud-free "
   ]
  },
  {
   "cell_type": "code",
   "execution_count": 9,
   "metadata": {
    "deletable": false,
    "nbgrader": {
     "cell_type": "code",
     "checksum": "653ebd5db668245408615979f6c20944",
     "grade": true,
     "grade_id": "function-definitions-check",
     "locked": false,
     "points": 40,
     "schema_version": 3,
     "solution": true,
     "task": false
    }
   },
   "outputs": [],
   "source": [
    "def landsat_read_rgbbands(files, crop_boundary):\n",
    "    \"\"\"Consolidates Landsat RGB+NIR bands into a single dataArray\n",
    "\n",
    "    Takes a list of Landsat RGB+NIR bands for a single date and returns\n",
    "    a single dataArray of consolidated bands 2-5\n",
    "\n",
    "    Band 2 = Blue -> Index 0\n",
    "    Band 3 = Green -> Index 1\n",
    "    Band 4 = Red -> Index 2\n",
    "    Band 5 = NIR -> Index 3\n",
    "\n",
    "    Parameters\n",
    "    ----------\n",
    "    files: List\n",
    "        A list of Landsat tif images\n",
    "    crop_boundary : shapefile dataArray\n",
    "\n",
    "    Returns\n",
    "    -------\n",
    "    data_xr : dataArray\n",
    "        Consolidated all bands in files cropped to shapefile\n",
    "\n",
    "    \"\"\"\n",
    "    all_bands = []\n",
    "    for i, aband in enumerate(files):\n",
    "        all_bands.append(\n",
    "            (rxr.open_rasterio(aband, masked=True)\n",
    "             # Inlcuding from_disk=True makes code run faster\n",
    "             .rio.clip(crop_boundary.geometry, from_disk=True)\n",
    "             .squeeze())\n",
    "        )\n",
    "        # Assign a band number to the new xarray object\n",
    "        all_bands[i][\"band\"] = i+1\n",
    "\n",
    "    # Turn list of bands into a single xarray object\n",
    "    data_xr_crop = xr.concat(all_bands, dim=\"band\")\n",
    "\n",
    "    # IMPORTANT: Clean the dataArray - remove 0's and high values\n",
    "    data_nozeros_xr = data_xr_crop.where(data_xr_crop > 0, np.nan)\n",
    "    data_nozeros_xr = data_nozeros_xr.where(data_nozeros_xr < 10000, np.nan)\n",
    "\n",
    "    return data_nozeros_xr"
   ]
  },
  {
   "cell_type": "markdown",
   "metadata": {},
   "source": [
    "### Function 4 - Apply cloud mask"
   ]
  },
  {
   "cell_type": "code",
   "execution_count": 10,
   "metadata": {},
   "outputs": [],
   "source": [
    "def apply_cloud_mask(data_xr, qa_file, crop_boundary):\n",
    "    \"\"\"Applies a cloud mask to Landsat dataArray\n",
    "\n",
    "    Parameters\n",
    "    ----------\n",
    "    qa_file : String\n",
    "        Path to the Landsat quality flag file\n",
    "\n",
    "    data_xr : dataArray\n",
    "        Landsat 8 band consolidated dataArray\n",
    "\n",
    "    crop_boundary : shapefile dataArray\n",
    "\n",
    "    Returns\n",
    "    -------\n",
    "    Cloud free and cropped dataArray\n",
    "\n",
    "    \"\"\"\n",
    "    # Read the quality flags file\n",
    "    qa_xr = (rxr.open_rasterio(qa_file, masked=True)\n",
    "             .rio.clip(crop_boundary.geometry, from_disk=True)\n",
    "             .squeeze())\n",
    "\n",
    "    # Create cloud mask using earthpy mask package for Landsat imagery\n",
    "    high_cloud_confidence = (\n",
    "        em.pixel_flags[\"pixel_qa\"][\"L8\"][\"High Cloud Confidence\"])\n",
    "    cloud = em.pixel_flags[\"pixel_qa\"][\"L8\"][\"Cloud\"]\n",
    "    cloud_shadow = em.pixel_flags[\"pixel_qa\"][\"L8\"][\"Cloud Shadow\"]\n",
    "\n",
    "    # Add up all the mask values\n",
    "    all_masked_values = cloud_shadow + cloud + high_cloud_confidence\n",
    "\n",
    "    # Apply the masking to the data xarray\n",
    "    data_cld_free_xr = data_xr.where(~qa_xr.isin(all_masked_values))\n",
    "\n",
    "    return data_cld_free_xr"
   ]
  },
  {
   "cell_type": "markdown",
   "metadata": {},
   "source": [
    "### Function 5 - Calculate NDVI and return the mean"
   ]
  },
  {
   "cell_type": "code",
   "execution_count": 11,
   "metadata": {},
   "outputs": [],
   "source": [
    "def calc_mean_ndvi(data_xr):\n",
    "    \"\"\"Calculates the NDVI and returns the mean\n",
    "\n",
    "    Reference: https://stackoverflow.com/questions/49867345/\n",
    "    how-to-deal-with-inf-values-when-computting-the-average-of-values-of-a-list-in-p\n",
    "\n",
    "    Parameters\n",
    "    ----------\n",
    "    data_xr : dataArray\n",
    "        The Landsat data\n",
    "\n",
    "    Returns\n",
    "    -------\n",
    "    float : numpy\n",
    "        The mean NDVI\n",
    "    \"\"\"\n",
    "    ndvi_xr = es.normalized_diff(data_xr[3], data_xr[2])\n",
    "\n",
    "    # Calculating my own NDVI\n",
    "    # ndvi_xr = (data_xr[3] - data_xr[2]) / (data_xr[3] + data_xr[2])\n",
    "    # ndvi_clean = ndvi_xr.where(np.isfinite(ndvi_xr.values))\n",
    "\n",
    "    # Replace dataArray NAN with numpy NAN\n",
    "    ndvi_mean = ndvi_xr.mean()\n",
    "    if np.isfinite(ndvi_mean):\n",
    "        result = float(ndvi_mean)\n",
    "    else:\n",
    "        result = np.nan\n",
    "\n",
    "    return result"
   ]
  },
  {
   "cell_type": "markdown",
   "metadata": {},
   "source": [
    "## Start of the main code - where the magic happens \n",
    "### Calculate mean NDVI from Landsat 8 for a single date\n",
    "\n",
    "- Create dataframe of mean NDVI in this cell using the functions created above\n",
    "- Important: to use the ungraded tests below as a sanity check, name your columns: mean_ndvi and site\n",
    "- Call the dataframe at the end of the cell so the tests run on it!\n",
    "- Be sure that the date column is an index of type date\n",
    "- HINT: the time series lessons may help you remember how to do this!\n",
    "\n"
   ]
  },
  {
   "cell_type": "code",
   "execution_count": 12,
   "metadata": {
    "deletable": false,
    "nbgrader": {
     "cell_type": "code",
     "checksum": "d124eef1d9cf2d0063ab450c9a20dc8e",
     "grade": false,
     "grade_id": "single-scene-answer",
     "locked": false,
     "schema_version": 3,
     "solution": true,
     "task": false
    },
    "tags": [
     "hide"
    ]
   },
   "outputs": [],
   "source": [
    "base_path = os.path.join('ndvi-automation',\n",
    "                         'sites')\n",
    "landsat_path = os.path.join(base_path,\n",
    "                            'HARV',\n",
    "                            'landsat-crop',\n",
    "                            'LC080130302017031701T1-SC20181023151837')\n",
    "landsat_bufferfile = os.path.join(base_path,\n",
    "                                  'HARV',\n",
    "                                  'vector',\n",
    "                                  'HARV-crop.shp')\n",
    "\n",
    "# Read shapefile\n",
    "landsat_buffer_shp = gpd.read_file(landsat_bufferfile)\n",
    "\n",
    "# Get the Bands and QA files\n",
    "landsat_bands_files, landsat_qa_file = find_tifs(landsat_path)\n",
    "\n",
    "# Get the metadata = site name and date\n",
    "site, date = get_site_date(landsat_path)\n",
    "\n",
    "# Read the Landsat data - consolidate the bands into a single dataArray\n",
    "# Crop to the shapefile\n",
    "landsat_xr = landsat_read_rgbbands(landsat_bands_files,\n",
    "                                   landsat_buffer_shp)\n",
    "\n",
    "# Apply cloud mask\n",
    "landsat_cld_free_xr = apply_cloud_mask(landsat_xr,\n",
    "                                       landsat_qa_file,\n",
    "                                       landsat_buffer_shp)"
   ]
  },
  {
   "cell_type": "markdown",
   "metadata": {},
   "source": [
    "### Plot the cloud-free, cropped dataArray as a check "
   ]
  },
  {
   "cell_type": "code",
   "execution_count": 13,
   "metadata": {},
   "outputs": [
    {
     "data": {
      "text/plain": [
       "<AxesSubplot:title={'center':'Landsat Cloud mask applied'}>"
      ]
     },
     "execution_count": 13,
     "metadata": {},
     "output_type": "execute_result"
    },
    {
     "data": {
      "image/png": "[encoded data removed]",
      "text/plain": [
       "<Figure size 432x720 with 2 Axes>"
      ]
     },
     "metadata": {},
     "output_type": "display_data"
    }
   ],
   "source": [
    "fig, (ax1, ax2) = plt.subplots(nrows=1, ncols=2, figsize=(6, 10))\n",
    "ep.plot_rgb(landsat_xr.values,\n",
    "            rgb=[2, 1, 0],\n",
    "            ax=ax1,\n",
    "            title='Landsat Original')\n",
    "\n",
    "ep.plot_rgb(landsat_cld_free_xr.values,\n",
    "            rgb=[2, 1, 0],\n",
    "            ax=ax2,\n",
    "            title='Landsat Cloud mask applied')\n",
    "# Hmmm doesn't look very different. Onward!"
   ]
  },
  {
   "cell_type": "markdown",
   "metadata": {},
   "source": [
    "### Calculate the NDVI from the cloud-free Landsat image"
   ]
  },
  {
   "cell_type": "code",
   "execution_count": 14,
   "metadata": {},
   "outputs": [
    {
     "data": {
      "text/html": [
       "<div>\n",
       "<style scoped>\n",
       "    .dataframe tbody tr th:only-of-type {\n",
       "        vertical-align: middle;\n",
       "    }\n",
       "\n",
       "    .dataframe tbody tr th {\n",
       "        vertical-align: top;\n",
       "    }\n",
       "\n",
       "    .dataframe thead th {\n",
       "        text-align: right;\n",
       "    }\n",
       "</style>\n",
       "<table border=\"1\" class=\"dataframe\">\n",
       "  <thead>\n",
       "    <tr style=\"text-align: right;\">\n",
       "      <th></th>\n",
       "      <th>site</th>\n",
       "      <th>mean_ndvi</th>\n",
       "    </tr>\n",
       "    <tr>\n",
       "      <th>Date</th>\n",
       "      <th></th>\n",
       "      <th></th>\n",
       "    </tr>\n",
       "  </thead>\n",
       "  <tbody>\n",
       "    <tr>\n",
       "      <th>2017-03-17</th>\n",
       "      <td>HARV</td>\n",
       "      <td>0.281132</td>\n",
       "    </tr>\n",
       "  </tbody>\n",
       "</table>\n",
       "</div>"
      ],
      "text/plain": [
       "            site  mean_ndvi\n",
       "Date                       \n",
       "2017-03-17  HARV   0.281132"
      ]
     },
     "execution_count": 14,
     "metadata": {},
     "output_type": "execute_result"
    }
   ],
   "source": [
    "mean_ndvi = calc_mean_ndvi(landsat_cld_free_xr)\n",
    "\n",
    "# Create a pandas dataFrame\n",
    "ndvi_df = pd.DataFrame([[date, site, mean_ndvi]],\n",
    "                       columns=['Date', 'site', 'mean_ndvi']\n",
    "                       ).set_index('Date')\n",
    "ndvi_df"
   ]
  },
  {
   "cell_type": "code",
   "execution_count": 15,
   "metadata": {
    "deletable": false,
    "editable": false,
    "nbgrader": {
     "cell_type": "code",
     "checksum": "6121e3a0293ed64f09521b5d248496c3",
     "grade": true,
     "grade_id": "single-scene-tests",
     "locked": true,
     "points": 15,
     "schema_version": 3,
     "solution": false,
     "task": false
    }
   },
   "outputs": [
    {
     "name": "stdout",
     "output_type": "stream",
     "text": [
      "✅ Your data is stored in a DataFrame!\n",
      "✅ You have the index set to the date column!\n",
      "✅ The data in your date column is datetime!\n",
      "✅ You have the correct site name!\n",
      "✅ You have the correct mean NDVI value!\n",
      "\n",
      " ➡ You received 15 out of 15 points for creating a dataframe.\n"
     ]
    },
    {
     "data": {
      "text/plain": [
       "15"
      ]
     },
     "execution_count": 15,
     "metadata": {},
     "output_type": "execute_result"
    }
   ],
   "source": [
    "# This cell  is testing your data output above\n",
    "\n",
    "student_ndvi_ts_single_site = _\n",
    "\n",
    "single_scene_points = 0\n",
    "\n",
    "# Ensure the data is stored in a dataframe.\n",
    "if isinstance(student_ndvi_ts_single_site, pd.DataFrame):\n",
    "    print('\\u2705 Your data is stored in a DataFrame!')\n",
    "    single_scene_points += 1\n",
    "else:\n",
    "    print('\\u274C It appears your data is not stored in a DataFrame. ',\n",
    "          'To see what type of object your data is stored in, check its type with type(object)')\n",
    "\n",
    "# Ensure that the date column is the index\n",
    "if isinstance(student_ndvi_ts_single_site.index, pd.core.indexes.datetimes.DatetimeIndex):\n",
    "    print('\\u2705 You have the index set to the date column!')\n",
    "    single_scene_points += 2\n",
    "else:\n",
    "    print('\\u274C You do not have the index set to the date column.')\n",
    "\n",
    "# Ensure that the date column is datetime\n",
    "if isinstance(student_ndvi_ts_single_site.index[0], pd._libs.tslibs.timestamps.Timestamp):\n",
    "    print('\\u2705 The data in your date column is datetime!')\n",
    "    single_scene_points += 2\n",
    "else:\n",
    "    print('\\u274C The data in your date column is not datetime.')\n",
    "\n",
    "# Ensure the site name is correct\n",
    "if student_ndvi_ts_single_site.site.values[0] == 'HARV':\n",
    "    print('\\u2705 You have the correct site name!')\n",
    "    single_scene_points += 5\n",
    "else:\n",
    "    print('\\u274C You do not have the correct site name.')\n",
    "\n",
    "if np.allclose(0.281131628228094, student_ndvi_ts_single_site.mean_ndvi.values[0]):\n",
    "    print('\\u2705 You have the correct mean NDVI value!')\n",
    "    single_scene_points += 5\n",
    "else:\n",
    "    print('\\u274C You do not have the correct mean ndvi value.')\n",
    "\n",
    "print(\"\\n \\u27A1 You received {} out of 15 points for creating a dataframe.\".format(\n",
    "    single_scene_points))\n",
    "single_scene_points"
   ]
  },
  {
   "cell_type": "markdown",
   "metadata": {},
   "source": [
    "## Task 2:\n",
    "\n",
    "In the cell below, process all of the landsat scenes. Create a DataFrame that contains the following \n",
    "information for each scene\n",
    "\n",
    "\n",
    "|   | index  | site  | mean_ndvi  | \n",
    "|---|---|---|---|\n",
    "| Date  |   |   |   |\n",
    "|  2017-01-07  | 0  | SJER  | .4  |  \n",
    "\n",
    "Be sure to call your dataframe at the end of the cell to ensure autograding works.\n",
    "HINT: FOR THIS STEP, leave any rows containing missing values (`NAN`)."
   ]
  },
  {
   "cell_type": "markdown",
   "metadata": {},
   "source": [
    "## Generate mean NDVI  dataFrame for all sites in the `base_path` folder\n",
    "\n",
    "- Important: to use the ungraded tests below as a sanity check, name your columns: mean_ndvi and site\n",
    "- Don't forget to set date as the index and make the values of type datetime\n"
   ]
  },
  {
   "cell_type": "code",
   "execution_count": 16,
   "metadata": {
    "deletable": false,
    "nbgrader": {
     "cell_type": "code",
     "checksum": "848dd486333246e15b6b8f0dff745a4b",
     "grade": false,
     "grade_id": "cleaned_dataframes_answer",
     "locked": false,
     "schema_version": 3,
     "solution": true,
     "task": false
    },
    "tags": [
     "hide"
    ]
   },
   "outputs": [
    {
     "name": "stdout",
     "output_type": "stream",
     "text": [
      "ndvi-automation/sites/SJER/vector/SJER-crop.shp\n",
      "ndvi-automation/sites/HARV/vector/HARV-crop.shp\n"
     ]
    }
   ],
   "source": [
    "# Create dataframe of NDVI including the cleaning data to deal with clouds\n",
    "\n",
    "# Get the site names\n",
    "sitenames = os.listdir(base_path)\n",
    "\n",
    "# Initialize the desired variables\n",
    "date = []\n",
    "site = []\n",
    "mean_ndvi = []\n",
    "\n",
    "# Loop over the sites\n",
    "for s in sitenames:\n",
    "    # Get the shapefile\n",
    "    shapefile = glob(os.path.join(base_path, s, 'vector', '*shp'))[0]\n",
    "    print(shapefile)\n",
    "\n",
    "    # Read shapefile\n",
    "    landsat_buffer_shp = gpd.read_file(shapefile)\n",
    "\n",
    "    # Loop through all the Landsat directories per site\n",
    "    for fdir in sorted(glob(os.path.join(base_path, s, 'landsat-crop', '*'))):\n",
    "\n",
    "        # Get the Bands and QA files per data directory\n",
    "        landsat_bands_files, landsat_qa_file = find_tifs(fdir)\n",
    "\n",
    "        # Get the site name and date\n",
    "        site_temp, date_temp = get_site_date(fdir)\n",
    "        site.append(site_temp)\n",
    "        date.append(date_temp)\n",
    "\n",
    "        # Read the Landsat data - bands into a single dataArray\n",
    "        # Cropped to the shapefile\n",
    "        landsat_xr = landsat_read_rgbbands(landsat_bands_files,\n",
    "                                           landsat_buffer_shp)\n",
    "\n",
    "        # Apply cloud mask\n",
    "        landsat_cld_free_xr = apply_cloud_mask(landsat_xr,\n",
    "                                               landsat_qa_file,\n",
    "                                               landsat_buffer_shp)\n",
    "\n",
    "        # Calculate the mean ndvi\n",
    "        mean_ndvi.append(calc_mean_ndvi(landsat_cld_free_xr))\n",
    "    pass\n",
    "pass"
   ]
  },
  {
   "cell_type": "markdown",
   "metadata": {},
   "source": [
    "### Create the final mean NDVI dataFrame"
   ]
  },
  {
   "cell_type": "code",
   "execution_count": 17,
   "metadata": {},
   "outputs": [
    {
     "data": {
      "text/html": [
       "<div>\n",
       "<style scoped>\n",
       "    .dataframe tbody tr th:only-of-type {\n",
       "        vertical-align: middle;\n",
       "    }\n",
       "\n",
       "    .dataframe tbody tr th {\n",
       "        vertical-align: top;\n",
       "    }\n",
       "\n",
       "    .dataframe thead th {\n",
       "        text-align: right;\n",
       "    }\n",
       "</style>\n",
       "<table border=\"1\" class=\"dataframe\">\n",
       "  <thead>\n",
       "    <tr style=\"text-align: right;\">\n",
       "      <th></th>\n",
       "      <th>site</th>\n",
       "      <th>mean_ndvi</th>\n",
       "    </tr>\n",
       "    <tr>\n",
       "      <th>Date</th>\n",
       "      <th></th>\n",
       "      <th></th>\n",
       "    </tr>\n",
       "  </thead>\n",
       "  <tbody>\n",
       "    <tr>\n",
       "      <th>2017-01-07</th>\n",
       "      <td>SJER</td>\n",
       "      <td>NaN</td>\n",
       "    </tr>\n",
       "    <tr>\n",
       "      <th>2017-01-23</th>\n",
       "      <td>SJER</td>\n",
       "      <td>NaN</td>\n",
       "    </tr>\n",
       "    <tr>\n",
       "      <th>2017-02-08</th>\n",
       "      <td>SJER</td>\n",
       "      <td>NaN</td>\n",
       "    </tr>\n",
       "    <tr>\n",
       "      <th>2017-02-24</th>\n",
       "      <td>SJER</td>\n",
       "      <td>0.665524</td>\n",
       "    </tr>\n",
       "    <tr>\n",
       "      <th>2017-03-12</th>\n",
       "      <td>SJER</td>\n",
       "      <td>0.664109</td>\n",
       "    </tr>\n",
       "    <tr>\n",
       "      <th>2017-03-28</th>\n",
       "      <td>SJER</td>\n",
       "      <td>0.702330</td>\n",
       "    </tr>\n",
       "    <tr>\n",
       "      <th>2017-04-13</th>\n",
       "      <td>SJER</td>\n",
       "      <td>NaN</td>\n",
       "    </tr>\n",
       "    <tr>\n",
       "      <th>2017-04-29</th>\n",
       "      <td>SJER</td>\n",
       "      <td>0.610209</td>\n",
       "    </tr>\n",
       "    <tr>\n",
       "      <th>2017-05-15</th>\n",
       "      <td>SJER</td>\n",
       "      <td>0.444823</td>\n",
       "    </tr>\n",
       "    <tr>\n",
       "      <th>2017-05-31</th>\n",
       "      <td>SJER</td>\n",
       "      <td>NaN</td>\n",
       "    </tr>\n",
       "    <tr>\n",
       "      <th>2017-06-16</th>\n",
       "      <td>SJER</td>\n",
       "      <td>0.358551</td>\n",
       "    </tr>\n",
       "    <tr>\n",
       "      <th>2017-07-02</th>\n",
       "      <td>SJER</td>\n",
       "      <td>0.334559</td>\n",
       "    </tr>\n",
       "    <tr>\n",
       "      <th>2017-07-18</th>\n",
       "      <td>SJER</td>\n",
       "      <td>0.319796</td>\n",
       "    </tr>\n",
       "    <tr>\n",
       "      <th>2017-08-03</th>\n",
       "      <td>SJER</td>\n",
       "      <td>NaN</td>\n",
       "    </tr>\n",
       "    <tr>\n",
       "      <th>2017-08-19</th>\n",
       "      <td>SJER</td>\n",
       "      <td>0.327455</td>\n",
       "    </tr>\n",
       "    <tr>\n",
       "      <th>2017-09-04</th>\n",
       "      <td>SJER</td>\n",
       "      <td>NaN</td>\n",
       "    </tr>\n",
       "    <tr>\n",
       "      <th>2017-09-20</th>\n",
       "      <td>SJER</td>\n",
       "      <td>0.330920</td>\n",
       "    </tr>\n",
       "    <tr>\n",
       "      <th>2017-10-06</th>\n",
       "      <td>SJER</td>\n",
       "      <td>0.305331</td>\n",
       "    </tr>\n",
       "    <tr>\n",
       "      <th>2017-10-22</th>\n",
       "      <td>SJER</td>\n",
       "      <td>0.317006</td>\n",
       "    </tr>\n",
       "    <tr>\n",
       "      <th>2017-11-07</th>\n",
       "      <td>SJER</td>\n",
       "      <td>0.313494</td>\n",
       "    </tr>\n",
       "    <tr>\n",
       "      <th>2017-11-23</th>\n",
       "      <td>SJER</td>\n",
       "      <td>0.324650</td>\n",
       "    </tr>\n",
       "    <tr>\n",
       "      <th>2017-12-09</th>\n",
       "      <td>SJER</td>\n",
       "      <td>0.352040</td>\n",
       "    </tr>\n",
       "    <tr>\n",
       "      <th>2017-12-25</th>\n",
       "      <td>SJER</td>\n",
       "      <td>0.271738</td>\n",
       "    </tr>\n",
       "    <tr>\n",
       "      <th>2017-01-12</th>\n",
       "      <td>HARV</td>\n",
       "      <td>NaN</td>\n",
       "    </tr>\n",
       "    <tr>\n",
       "      <th>2017-01-28</th>\n",
       "      <td>HARV</td>\n",
       "      <td>NaN</td>\n",
       "    </tr>\n",
       "    <tr>\n",
       "      <th>2017-02-13</th>\n",
       "      <td>HARV</td>\n",
       "      <td>NaN</td>\n",
       "    </tr>\n",
       "    <tr>\n",
       "      <th>2017-03-01</th>\n",
       "      <td>HARV</td>\n",
       "      <td>NaN</td>\n",
       "    </tr>\n",
       "    <tr>\n",
       "      <th>2017-03-17</th>\n",
       "      <td>HARV</td>\n",
       "      <td>0.281132</td>\n",
       "    </tr>\n",
       "    <tr>\n",
       "      <th>2017-04-02</th>\n",
       "      <td>HARV</td>\n",
       "      <td>0.251109</td>\n",
       "    </tr>\n",
       "    <tr>\n",
       "      <th>2017-04-18</th>\n",
       "      <td>HARV</td>\n",
       "      <td>0.541080</td>\n",
       "    </tr>\n",
       "    <tr>\n",
       "      <th>2017-05-04</th>\n",
       "      <td>HARV</td>\n",
       "      <td>0.568924</td>\n",
       "    </tr>\n",
       "    <tr>\n",
       "      <th>2017-05-20</th>\n",
       "      <td>HARV</td>\n",
       "      <td>0.811310</td>\n",
       "    </tr>\n",
       "    <tr>\n",
       "      <th>2017-06-05</th>\n",
       "      <td>HARV</td>\n",
       "      <td>NaN</td>\n",
       "    </tr>\n",
       "    <tr>\n",
       "      <th>2017-06-21</th>\n",
       "      <td>HARV</td>\n",
       "      <td>0.881739</td>\n",
       "    </tr>\n",
       "    <tr>\n",
       "      <th>2017-07-07</th>\n",
       "      <td>HARV</td>\n",
       "      <td>NaN</td>\n",
       "    </tr>\n",
       "    <tr>\n",
       "      <th>2017-07-23</th>\n",
       "      <td>HARV</td>\n",
       "      <td>0.819768</td>\n",
       "    </tr>\n",
       "    <tr>\n",
       "      <th>2017-08-08</th>\n",
       "      <td>HARV</td>\n",
       "      <td>NaN</td>\n",
       "    </tr>\n",
       "    <tr>\n",
       "      <th>2017-08-24</th>\n",
       "      <td>HARV</td>\n",
       "      <td>0.864464</td>\n",
       "    </tr>\n",
       "    <tr>\n",
       "      <th>2017-09-09</th>\n",
       "      <td>HARV</td>\n",
       "      <td>0.857666</td>\n",
       "    </tr>\n",
       "    <tr>\n",
       "      <th>2017-09-25</th>\n",
       "      <td>HARV</td>\n",
       "      <td>0.840639</td>\n",
       "    </tr>\n",
       "    <tr>\n",
       "      <th>2017-10-11</th>\n",
       "      <td>HARV</td>\n",
       "      <td>0.652435</td>\n",
       "    </tr>\n",
       "    <tr>\n",
       "      <th>2017-10-27</th>\n",
       "      <td>HARV</td>\n",
       "      <td>0.688382</td>\n",
       "    </tr>\n",
       "    <tr>\n",
       "      <th>2017-11-12</th>\n",
       "      <td>HARV</td>\n",
       "      <td>0.613321</td>\n",
       "    </tr>\n",
       "    <tr>\n",
       "      <th>2017-11-28</th>\n",
       "      <td>HARV</td>\n",
       "      <td>0.617948</td>\n",
       "    </tr>\n",
       "    <tr>\n",
       "      <th>2017-12-14</th>\n",
       "      <td>HARV</td>\n",
       "      <td>0.498131</td>\n",
       "    </tr>\n",
       "    <tr>\n",
       "      <th>2017-12-30</th>\n",
       "      <td>HARV</td>\n",
       "      <td>NaN</td>\n",
       "    </tr>\n",
       "  </tbody>\n",
       "</table>\n",
       "</div>"
      ],
      "text/plain": [
       "            site  mean_ndvi\n",
       "Date                       \n",
       "2017-01-07  SJER        NaN\n",
       "2017-01-23  SJER        NaN\n",
       "2017-02-08  SJER        NaN\n",
       "2017-02-24  SJER   0.665524\n",
       "2017-03-12  SJER   0.664109\n",
       "2017-03-28  SJER   0.702330\n",
       "2017-04-13  SJER        NaN\n",
       "2017-04-29  SJER   0.610209\n",
       "2017-05-15  SJER   0.444823\n",
       "2017-05-31  SJER        NaN\n",
       "2017-06-16  SJER   0.358551\n",
       "2017-07-02  SJER   0.334559\n",
       "2017-07-18  SJER   0.319796\n",
       "2017-08-03  SJER        NaN\n",
       "2017-08-19  SJER   0.327455\n",
       "2017-09-04  SJER        NaN\n",
       "2017-09-20  SJER   0.330920\n",
       "2017-10-06  SJER   0.305331\n",
       "2017-10-22  SJER   0.317006\n",
       "2017-11-07  SJER   0.313494\n",
       "2017-11-23  SJER   0.324650\n",
       "2017-12-09  SJER   0.352040\n",
       "2017-12-25  SJER   0.271738\n",
       "2017-01-12  HARV        NaN\n",
       "2017-01-28  HARV        NaN\n",
       "2017-02-13  HARV        NaN\n",
       "2017-03-01  HARV        NaN\n",
       "2017-03-17  HARV   0.281132\n",
       "2017-04-02  HARV   0.251109\n",
       "2017-04-18  HARV   0.541080\n",
       "2017-05-04  HARV   0.568924\n",
       "2017-05-20  HARV   0.811310\n",
       "2017-06-05  HARV        NaN\n",
       "2017-06-21  HARV   0.881739\n",
       "2017-07-07  HARV        NaN\n",
       "2017-07-23  HARV   0.819768\n",
       "2017-08-08  HARV        NaN\n",
       "2017-08-24  HARV   0.864464\n",
       "2017-09-09  HARV   0.857666\n",
       "2017-09-25  HARV   0.840639\n",
       "2017-10-11  HARV   0.652435\n",
       "2017-10-27  HARV   0.688382\n",
       "2017-11-12  HARV   0.613321\n",
       "2017-11-28  HARV   0.617948\n",
       "2017-12-14  HARV   0.498131\n",
       "2017-12-30  HARV        NaN"
      ]
     },
     "execution_count": 17,
     "metadata": {},
     "output_type": "execute_result"
    }
   ],
   "source": [
    "# Create a pandas dataFrame via a dictionary\n",
    "dict = {'Date': date,\n",
    "        'site': site,\n",
    "        'mean_ndvi': mean_ndvi}\n",
    "ndvi_df = pd.DataFrame(dict).set_index('Date')\n",
    "ndvi_df"
   ]
  },
  {
   "cell_type": "code",
   "execution_count": 18,
   "metadata": {
    "deletable": false,
    "editable": false,
    "nbgrader": {
     "cell_type": "code",
     "checksum": "1ce5d7d7519d5e569e6cf7c5927c6ffb",
     "grade": true,
     "grade_id": "cleaned_dataframes_test",
     "locked": true,
     "points": 10,
     "schema_version": 3,
     "solution": false,
     "task": false
    }
   },
   "outputs": [
    {
     "name": "stdout",
     "output_type": "stream",
     "text": [
      "✅ Your data is stored in a DataFrame!\n",
      "✅ Correct number of masked data values!\n",
      "✅ You have the index set to the date column!\n",
      "✅ The data in your date column is datetime!\n",
      "Your total run time for processing the data was 0:00:10.022262.\n",
      "\n",
      " ➡ You received 10 out of 10 points for creating a dataframe.\n"
     ]
    },
    {
     "data": {
      "text/plain": [
       "10"
      ]
     },
     "execution_count": 18,
     "metadata": {},
     "output_type": "execute_result"
    }
   ],
   "source": [
    "# Last sanity check before creating your plot (10 points)\n",
    "\n",
    "# Ensure that you call your dataframe at the bottom of the cell above\n",
    "# and that it has columns called: mean_ndvi and site\n",
    "\n",
    "# Ensure the data is stored in a dataframe.\n",
    "student_ndvi_df = _\n",
    "\n",
    "df_points = 0\n",
    "\n",
    "if isinstance(student_ndvi_df, pd.DataFrame):\n",
    "    print('\\u2705 Your data is stored in a DataFrame!')\n",
    "    df_points +=2\n",
    "else:\n",
    "    print('\\u274C It appears your data is not stored in a DataFrame. ',\n",
    "          'To see what type of object your data is stored in, check its type with type(object)')\n",
    "\n",
    "# Check that dataframe contains the appropriate number of NAN values\n",
    "if student_ndvi_df.mean_ndvi.isna().sum() == 15:\n",
    "    print('\\u2705 Correct number of masked data values!')\n",
    "    df_points +=2\n",
    "else:\n",
    "    print('\\u274C The amount of null data in your dataframe is incorrect.')\n",
    "\n",
    "\n",
    "# Ensure that the date column is the index\n",
    "if isinstance(student_ndvi_df.index, pd.core.indexes.datetimes.DatetimeIndex):\n",
    "    print('\\u2705 You have the index set to the date column!')\n",
    "    df_points +=3\n",
    "else:\n",
    "    print('\\u274C You do not have the index set to the date column.')\n",
    "\n",
    "# Ensure that the date column is datetime\n",
    "if isinstance(student_ndvi_df.index[0], pd._libs.tslibs.timestamps.Timestamp):\n",
    "    print('\\u2705 The data in your date column is datetime!')\n",
    "    df_points +=3\n",
    "else:\n",
    "    print('\\u274C The data in your date column is not datetime.')\n",
    "\n",
    "# Output for timer, # DO NOT MODIFY\n",
    "end_time = datetime.now()\n",
    "total_time = end_time - start_time\n",
    "print(\n",
    "    \"Your total run time for processing the data was {0}.\".format(total_time))\n",
    "\n",
    "print(\"\\n \\u27A1 You received {} out of 10 points for creating a dataframe.\".format(\n",
    "    df_points))\n",
    "\n",
    "df_points"
   ]
  },
  {
   "cell_type": "markdown",
   "metadata": {},
   "source": [
    "## Figure of mean NDVI over the 2 NEON field sites"
   ]
  },
  {
   "cell_type": "code",
   "execution_count": 19,
   "metadata": {
    "caption": "Plot showing NDVI for each time period at both NEON Sites. In this example the cloudy pixels were removed using the pixel_qa cloud mask. Notice that this makes a significant different in the output values. Why do you think this difference is so significant?",
    "deletable": false,
    "nbgrader": {
     "cell_type": "code",
     "checksum": "f9d5ebf0557e366fa6f1727fd85a7e45",
     "grade": false,
     "grade_id": "plot_cleaned_dataframes_answer",
     "locked": false,
     "schema_version": 3,
     "solution": true,
     "task": false
    },
    "tags": [
     "hide"
    ]
   },
   "outputs": [
    {
     "data": {
      "image/png": "[encoded data removed]",
      "text/plain": [
       "<Figure size 864x432 with 1 Axes>"
      ]
     },
     "metadata": {},
     "output_type": "display_data"
    }
   ],
   "source": [
    "# Add only the plot code to this cell\n",
    "# Ref: https://www.bmc.com/blogs/pandas-nan-missing-data/\n",
    "\n",
    "fig, ax = plt.subplots(figsize=(12, 6))\n",
    "\n",
    "for s, df in ndvi_df.dropna().groupby('site'):\n",
    "    ax.plot(df['mean_ndvi'],\n",
    "            'o-',\n",
    "            label=s)\n",
    "\n",
    "# Define the date format\n",
    "date_fmt = DateFormatter(\"%b\")\n",
    "ax.xaxis.set_major_formatter(date_fmt)\n",
    "\n",
    "# Add labels\n",
    "title = 'Mean NDVI from Landsat 8 (Cloud-free)\\nMeasurements taken in 2017'\n",
    "ax.set(title=title,\n",
    "       xlabel='Month',\n",
    "       ylabel='NDVI')\n",
    "ax.legend()\n",
    "\n",
    "### DO NOT REMOVE LINES BELOW ###\n",
    "final_masked_solution = nb.convert_axes(plt, which_axes=\"current\")"
   ]
  },
  {
   "cell_type": "code",
   "execution_count": 20,
   "metadata": {
    "deletable": false,
    "editable": false,
    "nbgrader": {
     "cell_type": "code",
     "checksum": "d2bc7d91b553a74e6382776fface9c70",
     "grade": true,
     "grade_id": "plot_cleaned_dataframes_test_answers",
     "locked": true,
     "points": 0,
     "schema_version": 3,
     "solution": false,
     "task": false
    }
   },
   "outputs": [],
   "source": [
    "# Ignore this cell for the autograding tests\n"
   ]
  },
  {
   "cell_type": "code",
   "execution_count": 21,
   "metadata": {
    "deletable": false,
    "editable": false,
    "nbgrader": {
     "cell_type": "code",
     "checksum": "23a1c68916e304be754ea15d9495e781",
     "grade": true,
     "grade_id": "plot_cleaned_dataframes_tests",
     "locked": true,
     "points": 50,
     "schema_version": 3,
     "solution": false,
     "task": false
    }
   },
   "outputs": [],
   "source": [
    "# Ignore this cell for the autograding tests\n"
   ]
  },
  {
   "cell_type": "markdown",
   "metadata": {
    "deletable": false,
    "editable": false,
    "nbgrader": {
     "cell_type": "markdown",
     "checksum": "c660ce8da16752276c4b16e35c7d2726",
     "grade": false,
     "grade_id": "question-1",
     "locked": true,
     "schema_version": 3,
     "solution": false,
     "task": false
    }
   },
   "source": [
    "# Question 1 (10 points)\n",
    "\n",
    "Imagine that you are planning NEON’s upcoming flight season to capture remote sensing data in these locations and want to ensure that you fly the area when the vegetation is the most green.\n",
    "\n",
    "When would you recommend the flights take place for each site? \n",
    "\n",
    "Answer the question in 2-3 sentences in the Markdown cell below."
   ]
  },
  {
   "cell_type": "markdown",
   "metadata": {
    "deletable": false,
    "nbgrader": {
     "cell_type": "markdown",
     "checksum": "26a85257b913135d401b6dc4fd2a4fc3",
     "grade": true,
     "grade_id": "question-1-answer",
     "locked": false,
     "points": 10,
     "schema_version": 3,
     "solution": true,
     "task": false
    }
   },
   "source": [
    "NDVI measures the <i>greenness</i> of a terrain where high values (near 1.0) indicate a dense vegetation, i.e. rainforest, and near zero values correspond to the absense of vegetation (Reference: https://earthobservatory.nasa.gov/features/MeasuringVegetation#:~:text=The%20most%20common%20measurement%20is,rainforests%20(0.6%20to%200.8).). Based on the plot above, to capture high vegetation seasons I would fly mid-May through September for HARV domain (essentially the summer months) and March through April over SJER (early spring months)."
   ]
  },
  {
   "cell_type": "markdown",
   "metadata": {
    "deletable": false,
    "editable": false,
    "nbgrader": {
     "cell_type": "markdown",
     "checksum": "603922a2076d0940962432ebc5069ef9",
     "grade": false,
     "grade_id": "question-2",
     "locked": true,
     "schema_version": 3,
     "solution": false,
     "task": false
    }
   },
   "source": [
    "# Question 2 (10 points)\n",
    "\n",
    "How could you modify your workflow to look at vegetation changes over time in each site? \n",
    "\n",
    "Answer the question in 2-3 sentences in the Markdown cell below."
   ]
  },
  {
   "cell_type": "markdown",
   "metadata": {
    "deletable": false,
    "nbgrader": {
     "cell_type": "markdown",
     "checksum": "f4ae5b1f3a47c9bf44714a2de486da54",
     "grade": true,
     "grade_id": "question-2-answer",
     "locked": false,
     "points": 10,
     "schema_version": 3,
     "solution": true,
     "task": false
    }
   },
   "source": [
    "Well, for one I would use a longer time series because then I can subtract the monthly mean from a monthly climatology, i.e. May 2017 minus (all the Mays for 10 years). I would also add other observations such as soil moisture, temperature, fires, and precipitation that impact vegetation. There may be strong correlations that can explain observed monthly variations in NDVI. Finally, for the dataset given, I can examine CIR imagery which is good for (1) identifying plant species, (2) estimating biomass of vegetation, (3) assessing soil moisture. Reference: https://www.mngeo.state.mn.us/chouse/airphoto/cir.html"
   ]
  },
  {
   "cell_type": "markdown",
   "metadata": {
    "deletable": false,
    "editable": false,
    "nbgrader": {
     "cell_type": "markdown",
     "checksum": "df53001e9821bf3baef478a3b29bde33",
     "grade": false,
     "grade_id": "additional-markdown-cell-check",
     "locked": true,
     "points": 10,
     "schema_version": 3,
     "solution": false,
     "task": true
    }
   },
   "source": [
    "# Do not edit this cell! (10 points)\n",
    "\n",
    "The notebook includes:\n",
    "* additional Markdown cells throughout the notebook to describe: \n",
    "    * the data that you used - and where it is from\n",
    "    * how data are being processing\n",
    "    * how the code is optimized to run fast and be more concise"
   ]
  },
  {
   "cell_type": "markdown",
   "metadata": {
    "deletable": false,
    "editable": false,
    "nbgrader": {
     "cell_type": "markdown",
     "checksum": "bcc0e446306a9db445d1ab243227c563",
     "grade": false,
     "grade_id": "pep8-formatting-check",
     "locked": true,
     "points": 30,
     "schema_version": 3,
     "solution": false,
     "task": true
    }
   },
   "source": [
    "# Do not edit this cell! (20 points)\n",
    "\n",
    "The notebook will also be checked for overall clean code requirements as specified at the **top** of this notebook. Some of these requirements include (review the top cells for more specifics): \n",
    "\n",
    "* Notebook begins at cell [1] and runs on any machine in its entirety.\n",
    "* PEP 8 format is applied throughout (including lengths of comment and code lines).\n",
    "* No additional code or imports in the notebook that is not needed for the workflow.\n",
    "* Notebook is fully reproducible. This means:\n",
    "   * reproducible paths using the os module.\n",
    "   * data downloaded using code in the notebook.\n",
    "   * all imports at top of notebook."
   ]
  },
  {
   "cell_type": "markdown",
   "metadata": {},
   "source": [
    "## Complete Bonus - Export to a CSV file\n",
    "\n",
    "#### Initially, I exported to the outputs/ folder in the ndvi-automation/ data folder but this file has to also be saved to my assignment folder so I can upload to the github repo."
   ]
  },
  {
   "cell_type": "code",
   "execution_count": 22,
   "metadata": {},
   "outputs": [],
   "source": [
    "# This path is specific to my assignment repo so I can add it to gitHub\n",
    "# output_path = os.path.join(et.io.HOME,\n",
    "#                            'earth-analytics',\n",
    "#                            'ea-2022-04-ndvi-automation-jacquiewitte')\n",
    "\n",
    "# This path is reproducible\n",
    "output_path = os.path.join('ndvi-automation',\n",
    "                           'outputs')\n",
    "\n",
    "# Converting to CSV file\n",
    "ndvi_df.to_csv(output_path+'/Landsat8_ndvi_neon2017.csv')"
   ]
  },
  {
   "cell_type": "markdown",
   "metadata": {
    "deletable": false,
    "editable": false,
    "nbgrader": {
     "cell_type": "markdown",
     "checksum": "67969627ed2d8a81a168d0ed1831224d",
     "grade": false,
     "grade_id": "cell-bf1766fe2443b94a",
     "locked": true,
     "points": 0,
     "schema_version": 3,
     "solution": false,
     "task": true
    }
   },
   "source": [
    "## BONUS - Export a  .CSV File to Share (10 points possible)\n",
    "\n",
    "This is optional - if you export a **.csv** file with the columns specified above: Site, Date and NDVI Value you can get an additional 10 points.\n",
    "\n",
    "* FULL CREDIT: File exists in csv format and contains the columns specified.\n",
    "We will check your github repo for this file!\n"
   ]
  }
 ],
 "metadata": {
  "kernelspec": {
   "display_name": "Python 3 (ipykernel)",
   "language": "python",
   "name": "python3"
  },
  "language_info": {
   "codemirror_mode": {
    "name": "ipython",
    "version": 3
   },
   "file_extension": ".py",
   "mimetype": "text/x-python",
   "name": "python",
   "nbconvert_exporter": "python",
   "pygments_lexer": "ipython3",
   "version": "3.8.10"
  },
  "toc": {
   "base_numbering": 1,
   "nav_menu": {},
   "number_sections": true,
   "sideBar": true,
   "skip_h1_title": false,
   "title_cell": "Table of Contents",
   "title_sidebar": "Contents",
   "toc_cell": false,
   "toc_position": {},
   "toc_section_display": true,
   "toc_window_display": true
  },
  "varInspector": {
   "cols": {
    "lenName": 16,
    "lenType": 16,
    "lenVar": 40
   },
   "kernels_config": {
    "python": {
     "delete_cmd_postfix": "",
     "delete_cmd_prefix": "del ",
     "library": "var_list.py",
     "varRefreshCmd": "print(var_dic_list())"
    },
    "r": {
     "delete_cmd_postfix": ") ",
     "delete_cmd_prefix": "rm(",
     "library": "var_list.r",
     "varRefreshCmd": "cat(var_dic_list()) "
    }
   },
   "types_to_exclude": [
    "module",
    "function",
    "builtin_function_or_method",
    "instance",
    "_Feature"
   ],
   "window_display": false
  }
 },
 "nbformat": 4,
 "nbformat_minor": 2
}
