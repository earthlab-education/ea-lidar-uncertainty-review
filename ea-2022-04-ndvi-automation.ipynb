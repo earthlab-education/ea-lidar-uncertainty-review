{
 "cells": [
  {
   "cell_type": "markdown",
   "metadata": {},
   "source": [
    "<img style='float: left;\" src=\"earth-lab-logo-rgb.png\" width=\"150\" height='150\" />\n",
    "\n",
    "# Earth Analytics Education - EA  Python Course Spring 2021"
   ]
  },
  {
   "cell_type": "markdown",
   "metadata": {},
   "source": [
    "# Important  - Assignment Guidelines\n",
    "\n",
    "1. Before you submit your assignment to GitHub, make sure to run the entire notebook with a fresh kernel. To do this first, **restart the kernel ** (in the menubar, select Kernel$\\rightarrow$Restart & Run All)\n",
    "2. Always replace the `raise NotImplementedError()` code with your code that addresses the activity challenge. If you don't replace that code, your notebook will not run.\n",
    "\n",
    "```\n",
    "# YOUR CODE HERE\n",
    "raise NotImplementedError()\n",
    "```\n",
    "\n",
    "3. Any open ended questions will have a \"YOUR ANSWER HERE\" within a markdown cell. Replace that text with your answer also formatted using Markdown.\n",
    "4. ** DO NOT RENAME THIS NOTEBOOK File!** If the file name changes, the autograder will not grade your assignment properly.\n",
    "6. When you create a figure, comment out `plt.show()` to ensure the autograder can grade your plots. For figure cells, DO NOT DELETE the code that says `DO NOT REMOVE LINE BELOW`.\n",
    "\n",
    "```\n",
    "### DO NOT REMOVE LINE BELOW ###\n",
    "student_plot1_ax = nb.convert_axes(plt)\n",
    "```\n",
    "\n",
    "* Only include the package imports, code, and outputs that are required to run your homework assignment.\n",
    "* Be sure that your code can be run on any operating system. This means that:\n",
    "   1. the data should be downloaded in the notebook to ensure it's reproducible\n",
    "   2. all paths should be created dynamically using the `os.path.join`\n",
    "\n",
    "# Follow to PEP 8 Syntax Guidelines & Documentation\n",
    "\n",
    "* Run the `autopep8` tool on all cells prior to submitting(HINT: hit shift + the tool to run it on all cells at once!\n",
    "* Use clear and expressive names for variables.\n",
    "* Organize your code to support readability.\n",
    "* Check for code line length\n",
    "* Use comments and white space sparingly where it is needed\n",
    "* Make sure all python imports are at the top of your notebook and follow PEP 8 order conventions\n",
    "* Spell check your Notebook before submitting it.\n",
    "\n",
    "For all of the plots below, be sure to do the following:\n",
    "\n",
    "* Make sure each plot has a clear TITLE and , where appropriate, label the x and y axes. Be sure to include UNITS in your labels.\n"
   ]
  },
  {
   "cell_type": "markdown",
   "metadata": {},
   "source": [
    "### Add Your Name Below \n",
    "**Your Name: Mitch Thompson**"
   ]
  },
  {
   "cell_type": "markdown",
   "metadata": {},
   "source": [
    "<img style=\"float: left;\" src=\"colored-bar.png'/>"
   ]
  },
  {
   "cell_type": "markdown",
   "metadata": {},
   "source": [
    "---"
   ]
  },
  {
   "cell_type": "markdown",
   "metadata": {
    "deletable": false,
    "editable": false,
    "nbgrader": {
     "cell_type": "markdown",
     "checksum": "482b6a6fad5a6b7297cd1f14b52b28e1",
     "grade": false,
     "grade_id": "hw-instructions",
     "locked": true,
     "schema_version": 3,
     "solution": false,
     "task": false
    }
   },
   "source": [
    "# Week 04 and 05 Homework - Automate NDVI Workflow\n",
    "\n",
    "For this assignment, you will write code to generate a plot of the mean normalized difference vegetation index (NDVI) for two different sites in the United States across one year of data:\n",
    "\n",
    "* San Joaquin Experimental Range (SJER) in Southern California, United States\n",
    "* Harvard Forest (HARV) in the Northeastern United States\n",
    "\n",
    "The data that you will use for this week is available from **earthpy** using the following download: \n",
    "\n",
    "`et.data.get_data('ndvi-automation')`\n",
    "\n",
    "## Assignment Goals\n",
    "\n",
    "Your goal in this assignment is to create the most efficient and concise workflow that you can that allows for:\n",
    "\n",
    "1. The code to scale if you added new sites or more time periods to the analysis.\n",
    "2. Someone else to understand your workflow.\n",
    "3. The LEAST and most efficient (i.e. runs fast, minimize repetition) amount of code that completes the task.\n",
    "\n",
    "### HINTS\n",
    "\n",
    "* Remove values outside of the landsat valid range of values as specified in the metadata, as needed.\n",
    "* Keep any output files SEPARATE FROM input files. Outputs should be created in an outputs directory that is created in the code (if needed) and/or tested for.\n",
    "* Use the functions that we demonstrated during class to make your workflow more efficient.\n",
    "* BONUS - if you  chose - you can export your data as a csv file. You will get bonus points for doing this.\n",
    "\n",
    "\n",
    "## Assignment Requirements\n",
    "\n",
    "Your submission to the GitHub repository should include:\n",
    "* This Jupyter Notebook file (.ipynb) with:\n",
    "    * The code to create a plot of mean NDVI across a year for  2 NEON Field Sites:\n",
    "        * NDVI on the x axis and formatted dates on the y for both NEON sites on one figure/axis object\n",
    "    * The **data should be cleaned to remove the influence of clouds**. See the [earthdatascience website for an example of what your plot might look like with and without removal of clouds](https://www.earthdatascience.org/courses/earth-analytics-python/create-efficient-data-workflows/).\n",
    "* BONUS: Create one output `.csv` file that has 3 columns - NDVI, Date and Site Name - with values for SJER and HARV.\n",
    "\n",
    "Your notebook should:\n",
    "* Have *at least* 2 well documented and well named functions with docstrings.\n",
    "* Include a Markdown cell at the top of the notebook that outlines the overall workflow using pseudocode (i.e. plain language, not code)\n",
    "* Include additional Markdown cells throughout the notebook to describe: \n",
    "    * the data that you used - and where it is from\n",
    "    * how data are being processing\n",
    "    * how the code is optimized to run fast and be more concise"
   ]
  },
  {
   "cell_type": "markdown",
   "metadata": {
    "deletable": false,
    "editable": false,
    "nbgrader": {
     "cell_type": "markdown",
     "checksum": "ca51bc48f62e7d3602d0567f742e1b15",
     "grade": false,
     "grade_id": "pseudo-code",
     "locked": true,
     "points": 15,
     "schema_version": 3,
     "solution": false,
     "task": true
    }
   },
   "source": [
    "**PSEUDOCODE**\n",
    "\n",
    "* Get sorted list of landsat tif files needed for NDVI for a single scene (bands 4-5)\n",
    "\n",
    "* Open and crop the bands to sites/site-name/vector/site-name-crop.shp\n",
    "\n",
    "* Restrict the Landsat 8 values to the 'valid range\" of 0 to 10000\n",
    "\n",
    "* Stack (concat) the bands (optional for NDVI calc)\n",
    "\n",
    "* Open QA layer & crop \n",
    "\n",
    "* Generate cloud mask\n",
    "\n",
    "* Calculate mean NDVI \n",
    "\n",
    "* Generate DataFrame w/ mean NDVI\n",
    "\n",
    "* Grab site name and date from filename (e.g. file_name[0:4] for site_name)\n",
    "\n",
    "* Format date using DateTime \n",
    "\n",
    "* Add or rename columns\n",
    "\n",
    "* Index DF on the date\n",
    "\n",
    "* Output to csv"
   ]
  },
  {
   "cell_type": "code",
   "execution_count": 1,
   "metadata": {
    "deletable": false,
    "editable": false,
    "nbgrader": {
     "cell_type": "code",
     "checksum": "9c7cd3e2e5089092e06ba301f2719a63",
     "grade": false,
     "grade_id": "core-imports",
     "locked": true,
     "schema_version": 3,
     "solution": false,
     "task": false
    }
   },
   "outputs": [
    {
     "name": "stderr",
     "output_type": "stream",
     "text": [
      "/Users/mk1989f_a/opt/anaconda3/envs/earth-analytics/lib/python3.8/site-packages/geopandas/_compat.py:106: UserWarning: The Shapely GEOS version (3.9.1dev-CAPI-1.14.1) is incompatible with the GEOS version PyGEOS was compiled with (3.9.1-CAPI-1.14.2). Conversions between both will be slow.\n",
      "  warnings.warn(\n"
     ]
    }
   ],
   "source": [
    "# Autograding imports - do not modify this cell\n",
    "import matplotcheck.autograde as ag\n",
    "import matplotcheck.notebook as nb\n",
    "import matplotcheck.timeseries as ts\n",
    "from datetime import datetime\n"
   ]
  },
  {
   "cell_type": "code",
   "execution_count": 2,
   "metadata": {
    "deletable": false,
    "nbgrader": {
     "cell_type": "code",
     "checksum": "3c4d1141999885a9a9b09772962b180a",
     "grade": true,
     "grade_id": "student-imports-answer",
     "locked": false,
     "points": 10,
     "schema_version": 3,
     "solution": true,
     "task": false
    },
    "tags": [
     "hide",
     "hide_output"
    ]
   },
   "outputs": [],
   "source": [
    "# Import needed packages in PEP 8 order\n",
    "# and no unused imports listed (10 points total)\n",
    "import os\n",
    "import numpy as np\n",
    "import pandas as pd\n",
    "import seaborn as sns\n",
    "import matplotlib.pyplot as plt\n",
    "import geopandas as gpd\n",
    "import rioxarray as rxr\n",
    "import xarray as xr\n",
    "import earthpy as et\n",
    "import warnings\n",
    "\n",
    "from glob import glob\n",
    "from matplotlib.dates import DateFormatter\n",
    "\n",
    "sns.set(font_scale=1.5, style='whitegrid', context='notebook')\n"
   ]
  },
  {
   "cell_type": "code",
   "execution_count": 3,
   "metadata": {},
   "outputs": [
    {
     "name": "stdout",
     "output_type": "stream",
     "text": [
      "Current working directory is set to:  /Users/mk1989f_a/earth-analytics/data\n"
     ]
    }
   ],
   "source": [
    "et.data.get_data('ndvi-automation')\n",
    "\n",
    "data_path = os.path.join(et.io.HOME, 'earth-analytics', 'data')\n",
    "\n",
    "if os.path.exists(data_path):\n",
    "    os.chdir(data_path)\n",
    "else:\n",
    "    os.makedirs(data_path)\n",
    "    print('The new directory is created!')\n",
    "    os.chdir(data_path)\n",
    "\n",
    "print('Current working directory is set to: ', os.getcwd())\n"
   ]
  },
  {
   "cell_type": "code",
   "execution_count": 4,
   "metadata": {
    "deletable": false,
    "editable": false,
    "hideCode": false,
    "hidePrompt": false,
    "nbgrader": {
     "cell_type": "code",
     "checksum": "dcf5b59326bf066172ff61520b658a3d",
     "grade": true,
     "grade_id": "student-download-tests",
     "locked": true,
     "points": 0,
     "schema_version": 3,
     "solution": false,
     "task": false
    }
   },
   "outputs": [
    {
     "name": "stdout",
     "output_type": "stream",
     "text": [
      "✅ Great - it looks like your working directory is set correctly to ~/earth-analytics/data\n"
     ]
    }
   ],
   "source": [
    "# DO NOT MODIFY THIS CELL\n",
    "# Tests that the working directory is set to earth-analytics/data\n",
    "\n",
    "path = os.path.normpath(os.getcwd())\n",
    "student_wd_parts = path.split(os.sep)\n",
    "\n",
    "if student_wd_parts[-2:] == ['earth-analytics', 'data']:\n",
    "    print(\"\\u2705 Great - it looks like your working directory is set correctly to ~/earth-analytics/data\")\n",
    "else:\n",
    "    print(\"\\u274C Oops, the autograder will not run unless your working directory is set to earth-analytics/data\")\n"
   ]
  },
  {
   "cell_type": "markdown",
   "metadata": {
    "deletable": false,
    "editable": false,
    "nbgrader": {
     "cell_type": "markdown",
     "checksum": "35205d12dc9e8fa05a26fb927c0a2307",
     "grade": false,
     "grade_id": "ndvi-mean-site-instructions",
     "locked": true,
     "schema_version": 3,
     "solution": false,
     "task": false
    }
   },
   "source": [
    "# Figure 1: Plot 1 - Mean NDVI For Each Site Across the Year (50 points)\n",
    "\n",
    "Create a plot of the mean normalized difference vegetation index (NDVI) for the two different sites in the United States across the year: \n",
    "\n",
    "* NDVI on the x axis and formatted dates on the y for both NEON sites on one figure/axis object.\n",
    "* Each site should be identified with a different color in the plot and legend.\n",
    "* The final plot **data should be cleaned to remove the influence of clouds**.\n",
    "* Be sure to include appropriate title and axes labels.\n",
    "\n",
    "Add additional cells as needed for processing data (e.g. defining functions, etc), but be sure to:\n",
    "* follow the instructions in the code cells that have been provided to ensure that you are able to use the sanity check tests that are provided. \n",
    "* include only the plot code in the cell identified for the final plot code below"
   ]
  },
  {
   "cell_type": "markdown",
   "metadata": {
    "deletable": false,
    "editable": false,
    "nbgrader": {
     "cell_type": "markdown",
     "checksum": "ce17d4d685cd4c7034bd7b0bb389342a",
     "grade": false,
     "grade_id": "single-scene-instructions",
     "locked": true,
     "schema_version": 3,
     "solution": false,
     "task": false
    }
   },
   "source": [
    "## Task 1: \n",
    "\n",
    "In the cell below, create a single dataframe containing MEAN NDVI, the site name, \n",
    "and the date of the data for the HARV site \n",
    "scene `HARV/landsat-crop/LC080130302017031701T1-SC20181023151837`.  The column names for the  final\n",
    "DataFrame should be`mean_ndvi`, and `site`, and the data should be **indexed on the date**. \n",
    "\n",
    "Use the functions that we reviewed in class (or create your own versions of them) to implement your code\n",
    "\n",
    "### In the Cell below Place  All Functions Needed to Run this Notebook (20 points)"
   ]
  },
  {
   "cell_type": "code",
   "execution_count": 5,
   "metadata": {
    "deletable": false,
    "editable": false,
    "nbgrader": {
     "cell_type": "code",
     "checksum": "0ee340cd9af6c949a08eb4b325716ae0",
     "grade": false,
     "grade_id": "cell-618e3588853f3ed8",
     "locked": true,
     "schema_version": 3,
     "solution": false,
     "task": false
    }
   },
   "outputs": [],
   "source": [
    "### DO NOT REMOVE THIS LINE OR EDIT / MOVE THIS CELL ###\n",
    "start_time = datetime.now()\n"
   ]
  },
  {
   "cell_type": "code",
   "execution_count": 6,
   "metadata": {
    "deletable": false,
    "nbgrader": {
     "cell_type": "code",
     "checksum": "653ebd5db668245408615979f6c20944",
     "grade": true,
     "grade_id": "function-definitions-check",
     "locked": false,
     "points": 40,
     "schema_version": 3,
     "solution": true,
     "task": false
    }
   },
   "outputs": [],
   "source": [
    "# In this cell place all of the functions needed to run your notebook\n",
    "# You will be graded here on function application, docstrings, efficiency so ensure\n",
    "# All functions are placed here!\n",
    "\n",
    "def open_clean_bands(band_path, valid_range=None):\n",
    "    \"\"\"Open and mask a single landsat band using a pixel_qa layer.\n",
    "\n",
    "    Parameters\n",
    "    -----------\n",
    "    band_path : string\n",
    "        A path to the array to be opened\n",
    "    valid_range : tuple (optional)\n",
    "        A tuple of min and max range of values for the data. Default = None\n",
    "\n",
    "    Returns\n",
    "    -----------\n",
    "    arr : xarray DataArray\n",
    "        An xarray DataArray with values that should be masked set to 1 for True (Boolean)\n",
    "    \"\"\"\n",
    "\n",
    "    band = rxr.open_rasterio(band_path, masked=True).squeeze()\n",
    "\n",
    "    if valid_range:\n",
    "        mask = ((band < valid_range[0]) | (band > valid_range[1]))\n",
    "        band = band.where(~xr.where(mask, True, False))\n",
    "\n",
    "    return band\n",
    "\n",
    "\n",
    "def mask_crop_ndvi(all_bands, crop_bound, pixel_qa, vals):\n",
    "    \"\"\"Compute normalized difference vegetation index (NDVI) from given landsat bands. Crop the NDVI layer and the pixel qa layer to the boundary as specified by a given crop_bound file. \n",
    "\n",
    "    Parameters\n",
    "    -----------\n",
    "    all_bands : list\n",
    "        A list containing the xarray objects for landsat  bands 4 and  5\n",
    "    crop_bound: geopandas GeoDataFrame\n",
    "        A geopandas dataframe to be used to crop the raster data using rasterio mask().\n",
    "    pixel_qa: xarray DataArray\n",
    "        An xarray DataArray with pixel qa values that have not yet been turned into a mask (0s and 1s)\n",
    "    vals: list\n",
    "        A list of values needed to create the cloud mask\n",
    "\n",
    "    Returns\n",
    "    -----------\n",
    "    ndvi_crop : Xarray Dataset\n",
    "        A cropped and masked xarray object containing NDVI values\n",
    "    \"\"\"\n",
    "\n",
    "    crop_json = crop_bound.geometry\n",
    "\n",
    "    # Clip pixel qa cloud mask layer\n",
    "    cl_mask_crop = pixel_qa.rio.clip(crop_json)\n",
    "\n",
    "    # Calculate NDVI\n",
    "    ndvi_xr = (all_bands[1]-all_bands[0]) / (all_bands[1]+all_bands[0])\n",
    "\n",
    "    # Clip NDVI layer\n",
    "    ndvi_crop = ndvi_xr.rio.clip(crop_json)\n",
    "\n",
    "    # Apply cloud mask to NDVI\n",
    "    ndvi_crop = ndvi_crop.where(~cl_mask_crop.isin(vals))\n",
    "\n",
    "    return ndvi_crop\n"
   ]
  },
  {
   "cell_type": "code",
   "execution_count": 7,
   "metadata": {},
   "outputs": [],
   "source": [
    "# Set base file path for single scene data\n",
    "harv_data_path = os.path.join('ndvi-automation',\n",
    "                              'sites',\n",
    "                              'HARV',\n",
    "                              'landsat-crop',\n",
    "                              'LC080130302017031701T1-SC20181023151837')\n",
    "\n",
    "# Get sorted list of landsat tif files needed for NDVI for a single scene\n",
    "harv_band_path = sorted(glob(os.path.join(harv_data_path, '*band*[4-5].tif')))\n"
   ]
  },
  {
   "cell_type": "code",
   "execution_count": 8,
   "metadata": {},
   "outputs": [],
   "source": [
    "# Generate list of bands for NDVI calculation\n",
    "all_bands_harv = []\n",
    "\n",
    "# Function call in loop\n",
    "for aband in harv_band_path:\n",
    "    cleaned_band = open_clean_bands(band_path=aband, valid_range=(0, 10000))\n",
    "    all_bands_harv.append(cleaned_band)\n",
    "    date = aband[50:58]\n",
    "\n",
    "# Set variable for site directories\n",
    "sites_path = glob(os.path.join('ndvi-automation', 'sites' + '/*/'))\n",
    "\n",
    "# Get site name from directory path\n",
    "vector_dir_harv = os.path.join(sites_path[1], 'vector')\n",
    "site_name = os.path.basename(os.path.normpath(sites_path[1]))\n",
    "\n",
    "# Format date from filename\n",
    "site_date = pd.to_datetime(date, format='%Y%m%d')\n"
   ]
  },
  {
   "cell_type": "code",
   "execution_count": 9,
   "metadata": {},
   "outputs": [],
   "source": [
    "# Open crop boundary\n",
    "site_boundary_path = os.path.join(vector_dir_harv,  site_name + '-crop.shp')\n",
    "crop_bound = gpd.read_file(site_boundary_path)\n",
    "\n",
    "# Set path to cloud mask layer\n",
    "harv_qa_path = glob(os.path.join(harv_data_path, '*qa*'))\n",
    "\n",
    "# Open the cloud mask layer\n",
    "qa_layer = rxr.open_rasterio(harv_qa_path[0], masked=True).squeeze()\n",
    "\n",
    "# List of Landsat 8 cloud no vals\n",
    "vals = [328, 392, 840, 904, 1350, 352, 368, 416,\n",
    "        432, 480, 864, 880, 928, 944, 992, 480, 992]\n",
    "\n",
    "# Function call\n",
    "ndvi_clean = mask_crop_ndvi(all_bands=all_bands_harv,\n",
    "                            crop_bound=crop_bound,\n",
    "                            pixel_qa=qa_layer,\n",
    "                            vals=vals)\n",
    "\n",
    "# Compute the arithmetic mean, ignoring NaNs\n",
    "mean_ndvi = np.nanmean(ndvi_clean)\n"
   ]
  },
  {
   "cell_type": "code",
   "execution_count": 10,
   "metadata": {
    "deletable": false,
    "nbgrader": {
     "cell_type": "code",
     "checksum": "d124eef1d9cf2d0063ab450c9a20dc8e",
     "grade": false,
     "grade_id": "single-scene-answer",
     "locked": false,
     "schema_version": 3,
     "solution": true,
     "task": false
    },
    "tags": [
     "hide"
    ]
   },
   "outputs": [
    {
     "data": {
      "text/html": [
       "<div>\n",
       "<style scoped>\n",
       "    .dataframe tbody tr th:only-of-type {\n",
       "        vertical-align: middle;\n",
       "    }\n",
       "\n",
       "    .dataframe tbody tr th {\n",
       "        vertical-align: top;\n",
       "    }\n",
       "\n",
       "    .dataframe thead th {\n",
       "        text-align: right;\n",
       "    }\n",
       "</style>\n",
       "<table border=\"1\" class=\"dataframe\">\n",
       "  <thead>\n",
       "    <tr style=\"text-align: right;\">\n",
       "      <th></th>\n",
       "      <th>site</th>\n",
       "      <th>mean_ndvi</th>\n",
       "    </tr>\n",
       "    <tr>\n",
       "      <th>date</th>\n",
       "      <th></th>\n",
       "      <th></th>\n",
       "    </tr>\n",
       "  </thead>\n",
       "  <tbody>\n",
       "    <tr>\n",
       "      <th>2017-03-17</th>\n",
       "      <td>HARV</td>\n",
       "      <td>0.281132</td>\n",
       "    </tr>\n",
       "  </tbody>\n",
       "</table>\n",
       "</div>"
      ],
      "text/plain": [
       "            site  mean_ndvi\n",
       "date                       \n",
       "2017-03-17  HARV   0.281132"
      ]
     },
     "execution_count": 10,
     "metadata": {},
     "output_type": "execute_result"
    }
   ],
   "source": [
    "# Create dataframe of mean NDVI in this cell using the functions created above\n",
    "# Important: to use the ungraded tests below as a sanity check,\n",
    "# name your columns: mean_ndvi and site\n",
    "# Call the dataframe at the end of the cell so the tests run on it!\n",
    "# Be sure that the date column is an index of type date\n",
    "# HINT: the time series lessons may help you remember how to do this!\n",
    "\n",
    "# Dict for df\n",
    "ndvi_dict = {'site': site_name, 'mean_ndvi': mean_ndvi, 'date': [site_date]}\n",
    "\n",
    "ndvi_mean_df = pd.DataFrame.from_dict(ndvi_dict)\n",
    "\n",
    "ndvi_mean_df.set_index('date')\n"
   ]
  },
  {
   "cell_type": "code",
   "execution_count": 11,
   "metadata": {
    "deletable": false,
    "editable": false,
    "nbgrader": {
     "cell_type": "code",
     "checksum": "6121e3a0293ed64f09521b5d248496c3",
     "grade": true,
     "grade_id": "single-scene-tests",
     "locked": true,
     "points": 15,
     "schema_version": 3,
     "solution": false,
     "task": false
    }
   },
   "outputs": [
    {
     "name": "stdout",
     "output_type": "stream",
     "text": [
      "✅ Your data is stored in a DataFrame!\n",
      "✅ You have the index set to the date column!\n",
      "✅ The data in your date column is datetime!\n",
      "✅ You have the correct site name!\n",
      "✅ You have the correct mean NDVI value!\n",
      "\n",
      " ➡ You received 15 out of 15 points for creating a dataframe.\n"
     ]
    },
    {
     "data": {
      "text/plain": [
       "15"
      ]
     },
     "execution_count": 11,
     "metadata": {},
     "output_type": "execute_result"
    }
   ],
   "source": [
    "# This cell  is testing your data output above\n",
    "\n",
    "student_ndvi_ts_single_site = _\n",
    "\n",
    "single_scene_points = 0\n",
    "\n",
    "# Ensure the data is stored in a dataframe.\n",
    "if isinstance(student_ndvi_ts_single_site, pd.DataFrame):\n",
    "    print('\\u2705 Your data is stored in a DataFrame!')\n",
    "    single_scene_points += 1\n",
    "else:\n",
    "    print('\\u274C It appears your data is not stored in a DataFrame. ',\n",
    "          'To see what type of object your data is stored in, check its type with type(object)')\n",
    "\n",
    "# Ensure that the date column is the index\n",
    "if isinstance(student_ndvi_ts_single_site.index, pd.core.indexes.datetimes.DatetimeIndex):\n",
    "    print('\\u2705 You have the index set to the date column!')\n",
    "    single_scene_points += 2\n",
    "else:\n",
    "    print('\\u274C You do not have the index set to the date column.')\n",
    "\n",
    "# Ensure that the date column is datetime\n",
    "if isinstance(student_ndvi_ts_single_site.index[0], pd._libs.tslibs.timestamps.Timestamp):\n",
    "    print('\\u2705 The data in your date column is datetime!')\n",
    "    single_scene_points += 2\n",
    "else:\n",
    "    print('\\u274C The data in your date column is not datetime.')\n",
    "\n",
    "# Ensure the site name is correct\n",
    "if student_ndvi_ts_single_site.site.values[0] == 'HARV':\n",
    "    print('\\u2705 You have the correct site name!')\n",
    "    single_scene_points += 5\n",
    "else:\n",
    "    print('\\u274C You do not have the correct site name.')\n",
    "\n",
    "if np.allclose(0.281131628228094, student_ndvi_ts_single_site.mean_ndvi.values[0]):\n",
    "    print('\\u2705 You have the correct mean NDVI value!')\n",
    "    single_scene_points += 5\n",
    "else:\n",
    "    print('\\u274C You do not have the correct mean ndvi value.')\n",
    "\n",
    "print(\"\\n \\u27A1 You received {} out of 15 points for creating a dataframe.\".format(\n",
    "    single_scene_points))\n",
    "single_scene_points\n"
   ]
  },
  {
   "cell_type": "markdown",
   "metadata": {},
   "source": [
    "## Task 2:\n",
    "\n",
    "In the cell below, process all of the landsat scenes. Create a DataFrame that contains the following \n",
    "information for each scene\n",
    "\n",
    "\n",
    "|   | index  | site  | mean_ndvi  | \n",
    "|---|---|---|---|\n",
    "| Date  |   |   |   |\n",
    "|  2017-01-07  | 0  | SJER  | .4  |  \n",
    "\n",
    "Be sure to call your dataframe at the end of the cell to ensure autograding works.\n",
    "HINT: FOR THIS STEP, leave any rows containing missing values (`NAN`)."
   ]
  },
  {
   "cell_type": "code",
   "execution_count": 12,
   "metadata": {
    "deletable": false,
    "nbgrader": {
     "cell_type": "code",
     "checksum": "848dd486333246e15b6b8f0dff745a4b",
     "grade": false,
     "grade_id": "cleaned_dataframes_answer",
     "locked": false,
     "schema_version": 3,
     "solution": true,
     "task": false
    },
    "tags": [
     "hide"
    ]
   },
   "outputs": [
    {
     "data": {
      "text/html": [
       "<div>\n",
       "<style scoped>\n",
       "    .dataframe tbody tr th:only-of-type {\n",
       "        vertical-align: middle;\n",
       "    }\n",
       "\n",
       "    .dataframe tbody tr th {\n",
       "        vertical-align: top;\n",
       "    }\n",
       "\n",
       "    .dataframe thead th {\n",
       "        text-align: right;\n",
       "    }\n",
       "</style>\n",
       "<table border=\"1\" class=\"dataframe\">\n",
       "  <thead>\n",
       "    <tr style=\"text-align: right;\">\n",
       "      <th></th>\n",
       "      <th>site</th>\n",
       "      <th>mean_ndvi</th>\n",
       "    </tr>\n",
       "    <tr>\n",
       "      <th>date</th>\n",
       "      <th></th>\n",
       "      <th></th>\n",
       "    </tr>\n",
       "  </thead>\n",
       "  <tbody>\n",
       "    <tr>\n",
       "      <th>2017-01-07</th>\n",
       "      <td>SJER</td>\n",
       "      <td>NaN</td>\n",
       "    </tr>\n",
       "    <tr>\n",
       "      <th>2017-01-23</th>\n",
       "      <td>SJER</td>\n",
       "      <td>NaN</td>\n",
       "    </tr>\n",
       "    <tr>\n",
       "      <th>2017-02-08</th>\n",
       "      <td>SJER</td>\n",
       "      <td>NaN</td>\n",
       "    </tr>\n",
       "    <tr>\n",
       "      <th>2017-02-24</th>\n",
       "      <td>SJER</td>\n",
       "      <td>0.665524</td>\n",
       "    </tr>\n",
       "    <tr>\n",
       "      <th>2017-03-12</th>\n",
       "      <td>SJER</td>\n",
       "      <td>0.664109</td>\n",
       "    </tr>\n",
       "    <tr>\n",
       "      <th>2017-03-28</th>\n",
       "      <td>SJER</td>\n",
       "      <td>0.702343</td>\n",
       "    </tr>\n",
       "    <tr>\n",
       "      <th>2017-04-13</th>\n",
       "      <td>SJER</td>\n",
       "      <td>NaN</td>\n",
       "    </tr>\n",
       "    <tr>\n",
       "      <th>2017-04-29</th>\n",
       "      <td>SJER</td>\n",
       "      <td>0.610209</td>\n",
       "    </tr>\n",
       "    <tr>\n",
       "      <th>2017-05-15</th>\n",
       "      <td>SJER</td>\n",
       "      <td>0.444847</td>\n",
       "    </tr>\n",
       "    <tr>\n",
       "      <th>2017-05-31</th>\n",
       "      <td>SJER</td>\n",
       "      <td>NaN</td>\n",
       "    </tr>\n",
       "    <tr>\n",
       "      <th>2017-06-16</th>\n",
       "      <td>SJER</td>\n",
       "      <td>0.358551</td>\n",
       "    </tr>\n",
       "    <tr>\n",
       "      <th>2017-07-02</th>\n",
       "      <td>SJER</td>\n",
       "      <td>0.334559</td>\n",
       "    </tr>\n",
       "    <tr>\n",
       "      <th>2017-07-18</th>\n",
       "      <td>SJER</td>\n",
       "      <td>0.319796</td>\n",
       "    </tr>\n",
       "    <tr>\n",
       "      <th>2017-08-03</th>\n",
       "      <td>SJER</td>\n",
       "      <td>NaN</td>\n",
       "    </tr>\n",
       "    <tr>\n",
       "      <th>2017-08-19</th>\n",
       "      <td>SJER</td>\n",
       "      <td>0.327455</td>\n",
       "    </tr>\n",
       "    <tr>\n",
       "      <th>2017-09-04</th>\n",
       "      <td>SJER</td>\n",
       "      <td>NaN</td>\n",
       "    </tr>\n",
       "    <tr>\n",
       "      <th>2017-09-20</th>\n",
       "      <td>SJER</td>\n",
       "      <td>0.330920</td>\n",
       "    </tr>\n",
       "    <tr>\n",
       "      <th>2017-10-06</th>\n",
       "      <td>SJER</td>\n",
       "      <td>0.305331</td>\n",
       "    </tr>\n",
       "    <tr>\n",
       "      <th>2017-10-22</th>\n",
       "      <td>SJER</td>\n",
       "      <td>0.317006</td>\n",
       "    </tr>\n",
       "    <tr>\n",
       "      <th>2017-11-07</th>\n",
       "      <td>SJER</td>\n",
       "      <td>0.313494</td>\n",
       "    </tr>\n",
       "    <tr>\n",
       "      <th>2017-11-23</th>\n",
       "      <td>SJER</td>\n",
       "      <td>0.324650</td>\n",
       "    </tr>\n",
       "    <tr>\n",
       "      <th>2017-12-09</th>\n",
       "      <td>SJER</td>\n",
       "      <td>0.352040</td>\n",
       "    </tr>\n",
       "    <tr>\n",
       "      <th>2017-12-25</th>\n",
       "      <td>SJER</td>\n",
       "      <td>0.271738</td>\n",
       "    </tr>\n",
       "    <tr>\n",
       "      <th>2017-01-12</th>\n",
       "      <td>HARV</td>\n",
       "      <td>NaN</td>\n",
       "    </tr>\n",
       "    <tr>\n",
       "      <th>2017-01-28</th>\n",
       "      <td>HARV</td>\n",
       "      <td>NaN</td>\n",
       "    </tr>\n",
       "    <tr>\n",
       "      <th>2017-02-13</th>\n",
       "      <td>HARV</td>\n",
       "      <td>NaN</td>\n",
       "    </tr>\n",
       "    <tr>\n",
       "      <th>2017-03-01</th>\n",
       "      <td>HARV</td>\n",
       "      <td>NaN</td>\n",
       "    </tr>\n",
       "    <tr>\n",
       "      <th>2017-03-17</th>\n",
       "      <td>HARV</td>\n",
       "      <td>0.281132</td>\n",
       "    </tr>\n",
       "    <tr>\n",
       "      <th>2017-04-02</th>\n",
       "      <td>HARV</td>\n",
       "      <td>0.251133</td>\n",
       "    </tr>\n",
       "    <tr>\n",
       "      <th>2017-04-18</th>\n",
       "      <td>HARV</td>\n",
       "      <td>0.541080</td>\n",
       "    </tr>\n",
       "    <tr>\n",
       "      <th>2017-05-04</th>\n",
       "      <td>HARV</td>\n",
       "      <td>0.568924</td>\n",
       "    </tr>\n",
       "    <tr>\n",
       "      <th>2017-05-20</th>\n",
       "      <td>HARV</td>\n",
       "      <td>0.811310</td>\n",
       "    </tr>\n",
       "    <tr>\n",
       "      <th>2017-06-05</th>\n",
       "      <td>HARV</td>\n",
       "      <td>NaN</td>\n",
       "    </tr>\n",
       "    <tr>\n",
       "      <th>2017-06-21</th>\n",
       "      <td>HARV</td>\n",
       "      <td>0.881739</td>\n",
       "    </tr>\n",
       "    <tr>\n",
       "      <th>2017-07-07</th>\n",
       "      <td>HARV</td>\n",
       "      <td>NaN</td>\n",
       "    </tr>\n",
       "    <tr>\n",
       "      <th>2017-07-23</th>\n",
       "      <td>HARV</td>\n",
       "      <td>0.819768</td>\n",
       "    </tr>\n",
       "    <tr>\n",
       "      <th>2017-08-08</th>\n",
       "      <td>HARV</td>\n",
       "      <td>NaN</td>\n",
       "    </tr>\n",
       "    <tr>\n",
       "      <th>2017-08-24</th>\n",
       "      <td>HARV</td>\n",
       "      <td>0.864464</td>\n",
       "    </tr>\n",
       "    <tr>\n",
       "      <th>2017-09-09</th>\n",
       "      <td>HARV</td>\n",
       "      <td>0.857701</td>\n",
       "    </tr>\n",
       "    <tr>\n",
       "      <th>2017-09-25</th>\n",
       "      <td>HARV</td>\n",
       "      <td>0.840639</td>\n",
       "    </tr>\n",
       "    <tr>\n",
       "      <th>2017-10-11</th>\n",
       "      <td>HARV</td>\n",
       "      <td>0.652435</td>\n",
       "    </tr>\n",
       "    <tr>\n",
       "      <th>2017-10-27</th>\n",
       "      <td>HARV</td>\n",
       "      <td>0.688382</td>\n",
       "    </tr>\n",
       "    <tr>\n",
       "      <th>2017-11-12</th>\n",
       "      <td>HARV</td>\n",
       "      <td>0.613321</td>\n",
       "    </tr>\n",
       "    <tr>\n",
       "      <th>2017-11-28</th>\n",
       "      <td>HARV</td>\n",
       "      <td>0.617948</td>\n",
       "    </tr>\n",
       "    <tr>\n",
       "      <th>2017-12-14</th>\n",
       "      <td>HARV</td>\n",
       "      <td>0.498205</td>\n",
       "    </tr>\n",
       "    <tr>\n",
       "      <th>2017-12-30</th>\n",
       "      <td>HARV</td>\n",
       "      <td>NaN</td>\n",
       "    </tr>\n",
       "  </tbody>\n",
       "</table>\n",
       "</div>"
      ],
      "text/plain": [
       "            site  mean_ndvi\n",
       "date                       \n",
       "2017-01-07  SJER        NaN\n",
       "2017-01-23  SJER        NaN\n",
       "2017-02-08  SJER        NaN\n",
       "2017-02-24  SJER   0.665524\n",
       "2017-03-12  SJER   0.664109\n",
       "2017-03-28  SJER   0.702343\n",
       "2017-04-13  SJER        NaN\n",
       "2017-04-29  SJER   0.610209\n",
       "2017-05-15  SJER   0.444847\n",
       "2017-05-31  SJER        NaN\n",
       "2017-06-16  SJER   0.358551\n",
       "2017-07-02  SJER   0.334559\n",
       "2017-07-18  SJER   0.319796\n",
       "2017-08-03  SJER        NaN\n",
       "2017-08-19  SJER   0.327455\n",
       "2017-09-04  SJER        NaN\n",
       "2017-09-20  SJER   0.330920\n",
       "2017-10-06  SJER   0.305331\n",
       "2017-10-22  SJER   0.317006\n",
       "2017-11-07  SJER   0.313494\n",
       "2017-11-23  SJER   0.324650\n",
       "2017-12-09  SJER   0.352040\n",
       "2017-12-25  SJER   0.271738\n",
       "2017-01-12  HARV        NaN\n",
       "2017-01-28  HARV        NaN\n",
       "2017-02-13  HARV        NaN\n",
       "2017-03-01  HARV        NaN\n",
       "2017-03-17  HARV   0.281132\n",
       "2017-04-02  HARV   0.251133\n",
       "2017-04-18  HARV   0.541080\n",
       "2017-05-04  HARV   0.568924\n",
       "2017-05-20  HARV   0.811310\n",
       "2017-06-05  HARV        NaN\n",
       "2017-06-21  HARV   0.881739\n",
       "2017-07-07  HARV        NaN\n",
       "2017-07-23  HARV   0.819768\n",
       "2017-08-08  HARV        NaN\n",
       "2017-08-24  HARV   0.864464\n",
       "2017-09-09  HARV   0.857701\n",
       "2017-09-25  HARV   0.840639\n",
       "2017-10-11  HARV   0.652435\n",
       "2017-10-27  HARV   0.688382\n",
       "2017-11-12  HARV   0.613321\n",
       "2017-11-28  HARV   0.617948\n",
       "2017-12-14  HARV   0.498205\n",
       "2017-12-30  HARV        NaN"
      ]
     },
     "execution_count": 12,
     "metadata": {},
     "output_type": "execute_result"
    }
   ],
   "source": [
    "# Create dataframe of NDVI including the cleaning data to deal with clouds\n",
    "\n",
    "# Important: to use the ungraded tests below as a sanity check,\n",
    "# name your columns: mean_ndvi and site\n",
    "# Don't forget to set date as the index and make the values of type datetime\n",
    "\n",
    "# Supress warnings\n",
    "warnings.filterwarnings(action='ignore', message='Mean of empty slice')\n",
    "\n",
    "all_data = []\n",
    "\n",
    "# Loop through file paths\n",
    "for site_path in sites_path:\n",
    "    site_name = os.path.basename(os.path.normpath(site_path))\n",
    "    vector_dir = os.path.join(site_path, 'vector')\n",
    "    site_boundary_path = os.path.join(vector_dir, site_name + '-crop.shp')\n",
    "    crop_bound = gpd.read_file(site_boundary_path)\n",
    "    landsat_dir = os.path.join(site_path, 'landsat-crop')\n",
    "    all_scenes = sorted(glob(os.path.join(landsat_dir, 'LC08*')))\n",
    "\n",
    "    # Loop through files\n",
    "    for scene in all_scenes:\n",
    "        band_paths = sorted(glob(os.path.join(scene,\n",
    "                                              '*band*[4-5].tif')))\n",
    "        all_bands = []\n",
    "        # Function call in loop\n",
    "        for band in band_paths:\n",
    "            cleaned_band = open_clean_bands(band_path=band,\n",
    "                                            valid_range=(0, 10000))\n",
    "            all_bands.append(cleaned_band)\n",
    "\n",
    "        qa_path = glob(os.path.join(scene, '*pixel_qa*'))\n",
    "        qa_layer = rxr.open_rasterio(qa_path[0], masked=True).squeeze()\n",
    "\n",
    "        # Function call\n",
    "        ndvi_clean = mask_crop_ndvi(all_bands=all_bands,\n",
    "                                    crop_bound=crop_bound,\n",
    "                                    pixel_qa=qa_layer,\n",
    "                                    vals=vals)\n",
    "\n",
    "        # Compute the arithmetic mean, ignoring NaNs\n",
    "        ndvi_mean = np.nanmean(ndvi_clean)\n",
    "\n",
    "        # Grab date from filename convention\n",
    "        date = os.path.basename(os.path.normpath(band_paths[0]))[17:25]\n",
    "        site_data = [date, site_name, ndvi_mean]\n",
    "        all_data.append(site_data)\n",
    "\n",
    "ndvi_mean_df = pd.DataFrame(data=all_data,\n",
    "                            columns=['date', 'site', 'mean_ndvi'])\n",
    "ndvi_mean_df['date'] = pd.to_datetime(ndvi_mean_df['date'])\n",
    "ndvi_mean_df.set_index('date', inplace=True)\n",
    "\n",
    "ndvi_mean_df\n"
   ]
  },
  {
   "cell_type": "code",
   "execution_count": 13,
   "metadata": {
    "deletable": false,
    "editable": false,
    "nbgrader": {
     "cell_type": "code",
     "checksum": "1ce5d7d7519d5e569e6cf7c5927c6ffb",
     "grade": true,
     "grade_id": "cleaned_dataframes_test",
     "locked": true,
     "points": 10,
     "schema_version": 3,
     "solution": false,
     "task": false
    }
   },
   "outputs": [
    {
     "name": "stdout",
     "output_type": "stream",
     "text": [
      "✅ Your data is stored in a DataFrame!\n",
      "✅ Correct number of masked data values!\n",
      "✅ You have the index set to the date column!\n",
      "✅ The data in your date column is datetime!\n",
      "Your total run time for processing the data was 0:00:12.086112.\n",
      "\n",
      " ➡ You received 10 out of 10 points for creating a dataframe.\n"
     ]
    },
    {
     "data": {
      "text/plain": [
       "10"
      ]
     },
     "execution_count": 13,
     "metadata": {},
     "output_type": "execute_result"
    }
   ],
   "source": [
    "# Last sanity check before creating your plot (10 points)\n",
    "\n",
    "# Ensure that you call your dataframe at the bottom of the cell above\n",
    "# and that it has columns called: mean_ndvi and site\n",
    "\n",
    "# Ensure the data is stored in a dataframe.\n",
    "student_ndvi_df = _\n",
    "\n",
    "df_points = 0\n",
    "\n",
    "if isinstance(student_ndvi_df, pd.DataFrame):\n",
    "    print('\\u2705 Your data is stored in a DataFrame!')\n",
    "    df_points += 2\n",
    "else:\n",
    "    print('\\u274C It appears your data is not stored in a DataFrame. ',\n",
    "          'To see what type of object your data is stored in, check its type with type(object)')\n",
    "\n",
    "# Check that dataframe contains the appropriate number of NAN values\n",
    "if student_ndvi_df.mean_ndvi.isna().sum() == 15:\n",
    "    print('\\u2705 Correct number of masked data values!')\n",
    "    df_points += 2\n",
    "else:\n",
    "    print('\\u274C The amount of null data in your dataframe is incorrect.')\n",
    "\n",
    "\n",
    "# Ensure that the date column is the index\n",
    "if isinstance(student_ndvi_df.index, pd.core.indexes.datetimes.DatetimeIndex):\n",
    "    print('\\u2705 You have the index set to the date column!')\n",
    "    df_points += 3\n",
    "else:\n",
    "    print('\\u274C You do not have the index set to the date column.')\n",
    "\n",
    "# Ensure that the date column is datetime\n",
    "if isinstance(student_ndvi_df.index[0], pd._libs.tslibs.timestamps.Timestamp):\n",
    "    print('\\u2705 The data in your date column is datetime!')\n",
    "    df_points += 3\n",
    "else:\n",
    "    print('\\u274C The data in your date column is not datetime.')\n",
    "\n",
    "# Output for timer, # DO NOT MODIFY\n",
    "end_time = datetime.now()\n",
    "total_time = end_time - start_time\n",
    "print(\n",
    "    \"Your total run time for processing the data was {0}.\".format(total_time))\n",
    "\n",
    "print(\"\\n \\u27A1 You received {} out of 10 points for creating a dataframe.\".format(\n",
    "    df_points))\n",
    "\n",
    "df_points"
   ]
  },
  {
   "cell_type": "code",
   "execution_count": 14,
   "metadata": {
    "caption": "Plot showing NDVI for each time period at both NEON Sites. In this example the cloudy pixels were removed using the pixel_qa cloud mask. Notice that this makes a significant different in the output values. Why do you think this difference is so significant?",
    "deletable": false,
    "nbgrader": {
     "cell_type": "code",
     "checksum": "f9d5ebf0557e366fa6f1727fd85a7e45",
     "grade": false,
     "grade_id": "plot_cleaned_dataframes_answer",
     "locked": false,
     "schema_version": 3,
     "solution": true,
     "task": false
    },
    "tags": [
     "hide"
    ]
   },
   "outputs": [
    {
     "data": {
      "image/png": "[encoded data removed]",
      "text/plain": [
       "<Figure size 864x576 with 1 Axes>"
      ]
     },
     "metadata": {},
     "output_type": "display_data"
    }
   ],
   "source": [
    "# Add only the plot code to this cell\n",
    "\n",
    "# This is the final figure of mean NDVI\n",
    "# for both sites across the year\n",
    "# with data cleaned to deal with clouds\n",
    "\n",
    "# Plot mean NDVI for both sites across the year.\n",
    "ndvi_mean_df.dropna(subset=['mean_ndvi'], inplace=True)\n",
    "\n",
    "colors = {'HARV': 'purple',\n",
    "          'SJER': 'black'}\n",
    "\n",
    "fig, ax = plt.subplots(figsize=(12, 8))\n",
    "\n",
    "for site, group in ndvi_mean_df.groupby('site'):\n",
    "    ax.plot(group.index,\n",
    "            group.mean_ndvi,\n",
    "            marker='o',\n",
    "            color=colors[site],\n",
    "            label=site)\n",
    "\n",
    "date_form = DateFormatter('%b')\n",
    "ax.xaxis.set_major_formatter(date_form)\n",
    "\n",
    "fig.suptitle('Mean NDVI, HARV and SJER Field Sites', x=.52, y=.95)\n",
    "ax.set(title=' Landsat 8, Jan 2017 - Dec 2017',\n",
    "       xlabel='Month',\n",
    "       ylabel='Mean NDVI')\n",
    "ax.legend()\n",
    "\n",
    "fig.tight_layout()\n",
    "\n",
    "### DO NOT REMOVE LINES BELOW ###\n",
    "final_masked_solution = nb.convert_axes(plt, which_axes=\"current\")\n"
   ]
  },
  {
   "cell_type": "code",
   "execution_count": 15,
   "metadata": {
    "deletable": false,
    "editable": false,
    "nbgrader": {
     "cell_type": "code",
     "checksum": "d2bc7d91b553a74e6382776fface9c70",
     "grade": true,
     "grade_id": "plot_cleaned_dataframes_test_answers",
     "locked": true,
     "points": 0,
     "schema_version": 3,
     "solution": false,
     "task": false
    }
   },
   "outputs": [],
   "source": [
    "# Ignore this cell for the autograding tests\n"
   ]
  },
  {
   "cell_type": "code",
   "execution_count": 16,
   "metadata": {
    "deletable": false,
    "editable": false,
    "nbgrader": {
     "cell_type": "code",
     "checksum": "23a1c68916e304be754ea15d9495e781",
     "grade": true,
     "grade_id": "plot_cleaned_dataframes_tests",
     "locked": true,
     "points": 50,
     "schema_version": 3,
     "solution": false,
     "task": false
    }
   },
   "outputs": [],
   "source": [
    "# Ignore this cell for the autograding tests\n"
   ]
  },
  {
   "cell_type": "markdown",
   "metadata": {
    "deletable": false,
    "editable": false,
    "nbgrader": {
     "cell_type": "markdown",
     "checksum": "c660ce8da16752276c4b16e35c7d2726",
     "grade": false,
     "grade_id": "question-1",
     "locked": true,
     "schema_version": 3,
     "solution": false,
     "task": false
    }
   },
   "source": [
    "# Question 1 (10 points)\n",
    "\n",
    "Imagine that you are planning NEON’s upcoming flight season to capture remote sensing data in these locations and want to ensure that you fly the area when the vegetation is the most green.\n",
    "\n",
    "When would you recommend the flights take place for each site? \n",
    "\n",
    "Answer the question in 2-3 sentences in the Markdown cell below."
   ]
  },
  {
   "cell_type": "markdown",
   "metadata": {
    "deletable": false,
    "nbgrader": {
     "cell_type": "markdown",
     "checksum": "26a85257b913135d401b6dc4fd2a4fc3",
     "grade": true,
     "grade_id": "question-1-answer",
     "locked": false,
     "points": 10,
     "schema_version": 3,
     "solution": true,
     "task": false
    }
   },
   "source": [
    "The Normalized Difference Vegetation Index measures the levels of chlorophyll in vegetation, ranging from -1 to +1. The higher the measurement, the healthier and denser the vegetation likely is. Arranging flights over the HARV site would be best timed in the months of May through October, according to the 2017 values. Similiarily, the months of March and April would be best for the SJER field site per the 2017 values."
   ]
  },
  {
   "cell_type": "markdown",
   "metadata": {
    "deletable": false,
    "editable": false,
    "nbgrader": {
     "cell_type": "markdown",
     "checksum": "603922a2076d0940962432ebc5069ef9",
     "grade": false,
     "grade_id": "question-2",
     "locked": true,
     "schema_version": 3,
     "solution": false,
     "task": false
    }
   },
   "source": [
    "# Question 2 (10 points)\n",
    "\n",
    "How could you modify your workflow to look at vegetation changes over time in each site? \n",
    "\n",
    "Answer the question in 2-3 sentences in the Markdown cell below."
   ]
  },
  {
   "cell_type": "markdown",
   "metadata": {
    "deletable": false,
    "nbgrader": {
     "cell_type": "markdown",
     "checksum": "f4ae5b1f3a47c9bf44714a2de486da54",
     "grade": true,
     "grade_id": "question-2-answer",
     "locked": false,
     "points": 10,
     "schema_version": 3,
     "solution": true,
     "task": false
    }
   },
   "source": [
    "Monitoring vegetative changes over time in each site would require an increased persistance of data over time instead of the single year plotted above. Initial modifications to the workflow would include these longer time series datasets. Secondary to this longer time series would be the distinct comparison and analyses of the time windows of seasonal changes with the hypothesis as seasonal triggers should not vary by 30-60 days."
   ]
  },
  {
   "cell_type": "markdown",
   "metadata": {
    "deletable": false,
    "editable": false,
    "nbgrader": {
     "cell_type": "markdown",
     "checksum": "df53001e9821bf3baef478a3b29bde33",
     "grade": false,
     "grade_id": "additional-markdown-cell-check",
     "locked": true,
     "points": 10,
     "schema_version": 3,
     "solution": false,
     "task": true
    }
   },
   "source": [
    "# Do not edit this cell! (10 points)\n",
    "\n",
    "The notebook includes:\n",
    "* additional Markdown cells throughout the notebook to describe: \n",
    "    * the data that you used - and where it is from\n",
    "    * how data are being processing\n",
    "    * how the code is optimized to run fast and be more concise"
   ]
  },
  {
   "cell_type": "markdown",
   "metadata": {
    "deletable": false,
    "editable": false,
    "nbgrader": {
     "cell_type": "markdown",
     "checksum": "bcc0e446306a9db445d1ab243227c563",
     "grade": false,
     "grade_id": "pep8-formatting-check",
     "locked": true,
     "points": 30,
     "schema_version": 3,
     "solution": false,
     "task": true
    }
   },
   "source": [
    "# Do not edit this cell! (20 points)\n",
    "\n",
    "The notebook will also be checked for overall clean code requirements as specified at the **top** of this notebook. Some of these requirements include (review the top cells for more specifics): \n",
    "\n",
    "* Notebook begins at cell [1] and runs on any machine in its entirety.\n",
    "* PEP 8 format is applied throughout (including lengths of comment and code lines).\n",
    "* No additional code or imports in the notebook that is not needed for the workflow.\n",
    "* Notebook is fully reproducible. This means:\n",
    "   * reproducible paths using the os module.\n",
    "   * data downloaded using code in the notebook.\n",
    "   * all imports at top of notebook."
   ]
  },
  {
   "cell_type": "markdown",
   "metadata": {
    "deletable": false,
    "editable": false,
    "nbgrader": {
     "cell_type": "markdown",
     "checksum": "67969627ed2d8a81a168d0ed1831224d",
     "grade": false,
     "grade_id": "cell-bf1766fe2443b94a",
     "locked": true,
     "points": 0,
     "schema_version": 3,
     "solution": false,
     "task": true
    }
   },
   "source": [
    "## BONUS - Export a  .CSV File to Share (10 points possible)\n",
    "\n",
    "This is optional - if you export a **.csv** file with the columns specified above: Site, Date and NDVI Value you can get an additional 10 points.\n",
    "\n",
    "* FULL CREDIT: File exists in csv format and contains the columns specified.\n",
    "We will check your github repo for this file!\n"
   ]
  },
  {
   "cell_type": "code",
   "execution_count": 17,
   "metadata": {},
   "outputs": [
    {
     "name": "stdout",
     "output_type": "stream",
     "text": [
      "************Complete*************\n"
     ]
    }
   ],
   "source": [
    "csvfile = os.path.join(data_path,\n",
    "                       'ndvi-automation',\n",
    "                       'outputs',\n",
    "                       'harv_sjer_meanNDVI_clean.csv')\n",
    "ndvi_mean_df.to_csv(csvfile)\n",
    "print('************Complete*************')\n"
   ]
  }
 ],
 "metadata": {
  "kernelspec": {
   "display_name": "Python 3 (ipykernel)",
   "language": "python",
   "name": "python3"
  },
  "language_info": {
   "codemirror_mode": {
    "name": "ipython",
    "version": 3
   },
   "file_extension": ".py",
   "mimetype": "text/x-python",
   "name": "python",
   "nbconvert_exporter": "python",
   "pygments_lexer": "ipython3",
   "version": "3.8.10"
  },
  "toc": {
   "base_numbering": 1,
   "nav_menu": {},
   "number_sections": true,
   "sideBar": true,
   "skip_h1_title": false,
   "title_cell": "Table of Contents",
   "title_sidebar": "Contents",
   "toc_cell": false,
   "toc_position": {},
   "toc_section_display": true,
   "toc_window_display": true
  },
  "varInspector": {
   "cols": {
    "lenName": 16,
    "lenType": 16,
    "lenVar": 40
   },
   "kernels_config": {
    "python": {
     "delete_cmd_postfix": "",
     "delete_cmd_prefix": "del ",
     "library": "var_list.py",
     "varRefreshCmd": "print(var_dic_list())"
    },
    "r": {
     "delete_cmd_postfix": ") ",
     "delete_cmd_prefix": "rm(",
     "library": "var_list.r",
     "varRefreshCmd": "cat(var_dic_list()) "
    }
   },
   "types_to_exclude": [
    "module",
    "function",
    "builtin_function_or_method",
    "instance",
    "_Feature"
   ],
   "window_display": false
  }
 },
 "nbformat": 4,
 "nbformat_minor": 2
}
