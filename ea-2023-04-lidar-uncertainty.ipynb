{
 "cells": [
  {
   "cell_type": "markdown",
   "metadata": {},
   "source": [
    "<img style=\"float: left;\" src=\"earth-lab-logo-rgb.png\" width=\"150\" height=\"150\" />\n",
    "\n",
    "# Earth Analytics Education"
   ]
  },
  {
   "cell_type": "markdown",
   "metadata": {},
   "source": [
    "## Important  - Assignment Guidelines\n",
    "\n",
    "1. Before you submit your assignment to GitHub, make sure to run the entire notebook with a fresh kernel. To do this first, **restart the kernel** (in the menubar, select Kernel$\\rightarrow$Restart & Run All)\n",
    "2. Always replace the `raise NotImplementedError()` code with your code that addresses the activity challenge. If you don't replace that code, your notebook will not run.\n",
    "\n",
    "```\n",
    "# YOUR CODE HERE\n",
    "raise NotImplementedError()\n",
    "```\n",
    "\n",
    "3. Any open ended questions will have a \"YOUR ANSWER HERE\" within a markdown cell. Replace that text with your answer also formatted using Markdown.\n",
    "4. **DO NOT RENAME THIS NOTEBOOK File!** If the file name changes, the autograder will not grade your assignment properly.\n",
    "\n",
    "* Only include the package imports, code, and outputs that are required to run your homework assignment.\n",
    "* Be sure that your code can be run on any operating system. This means that:\n",
    "   1. the data should be downloaded in the notebook to ensure it's reproducible\n",
    "   2. all paths should be created dynamically using the `os.path.join`\n",
    "   3. sort lists of dated files even if they are sorted correctly by default on your machine\n",
    "\n",
    "## Follow to PEP 8 Syntax Guidelines & Documentation\n",
    "\n",
    "* Run the `autopep8` tool on all cells prior to submitting (HINT: hit shift + the tool to run it on all cells at once!\n",
    "* Use clear and expressive names for variables. \n",
    "* Organize your code to support readability.\n",
    "* Check for code line length\n",
    "* Use comments and white space sparingly where it is needed\n",
    "* Make sure all python imports are at the top of your notebook and follow PEP 8 order conventions\n",
    "* Spell check your Notebook before submitting it.\n",
    "\n",
    "For all of the plots below, be sure to do the following:\n",
    "\n",
    "* Make sure each plot has a clear TITLE and, where appropriate, label the x and y axes. Be sure to include UNITS in your labels.\n"
   ]
  },
  {
   "cell_type": "markdown",
   "metadata": {},
   "source": [
    "### Add Your Name Below \n",
    "**Your Name:**"
   ]
  },
  {
   "cell_type": "markdown",
   "metadata": {},
   "source": [
    "<img style=\"float: left;\" src=\"colored-bar.png\"/>"
   ]
  },
  {
   "cell_type": "markdown",
   "metadata": {},
   "source": [
    "---"
   ]
  },
  {
   "cell_type": "markdown",
   "metadata": {
    "deletable": false,
    "editable": false,
    "nbgrader": {
     "cell_type": "markdown",
     "checksum": "c650eaa6da238c89cb9d687e2bd1d2ca",
     "grade": false,
     "grade_id": "hw-instructions",
     "locked": true,
     "schema_version": 3,
     "solution": false,
     "task": false
    }
   },
   "source": [
    "# Week 03- Lidar Data Compared to Ground Measurements: Understanding Uncertainty\n",
    "\n",
    "This week you will work with LiDAR data. You will explore the values in a LiDAR dataset - specifically tree height from a canopy height model. You will compare these measurements to the same types of measurements made by humans in the field.\n",
    "\n",
    "You can download the data for this week from earthpy using: \n",
    "\n",
    "`et.data.get_data('spatial-vector-lidar')`\n",
    "\n",
    "For both the SJER and SOAP field sites, create scatterplots (with regression and 1:1 lines) that compare:\n",
    "* **MAXIMUM** canopy height model height in meters, extracted within a 20 meter radius, compared to **MAXIMUM** tree\n",
    "height derived from the *insitu* field site data.\n",
    "* **MEAN** canopy height model height in meters, extracted within a 20 meter radius, compared to **MEAN** tree height derived from the *insitu* field site data.\n",
    "\n",
    "Create one figure for each site with two subplots (ax1, ax2): one for the Max comparison and one for the Mean comparison.\n",
    "\n",
    "\n",
    "## For All Plots\n",
    "\n",
    "* Place lidar data values on the X axis and human measured tree height on the Y axis.\n",
    "* Include a calculated **regression line** (HINT: use `sns.regplot()` to achieve this line) that describes the relationship of lidar of the data.\n",
    "* Include a separate **1:1 line** that can be used to compare the regression fit to a perfect 1:1 fit. \n",
    "* Set the x and y limits to be the SAME for each individual plot. (e.g. for plot 3, the x and y limits are set to the same range). \n",
    "* Label x and y axes appropriately - include units.\n",
    "* Add a title to your plot that describes what the plot shows.\n",
    "* Ensure that your notebook is fully reproducible. This means you will:\n",
    "   * Create reproducible paths using the os module\n",
    "   * Download the data using code in the notebook\n"
   ]
  },
  {
   "cell_type": "markdown",
   "metadata": {
    "deletable": false,
    "editable": false,
    "nbgrader": {
     "cell_type": "markdown",
     "checksum": "41f77bec91ca52d6a0dde97436cb65c9",
     "grade": false,
     "grade_id": "bar1",
     "locked": true,
     "schema_version": 3,
     "solution": false,
     "task": false
    }
   },
   "source": [
    "![Colored Bar](colored-bar.png)"
   ]
  },
  {
   "cell_type": "markdown",
   "metadata": {
    "deletable": false,
    "editable": false,
    "nbgrader": {
     "cell_type": "markdown",
     "checksum": "900b96e53d25b91ae62709cd01237884",
     "grade": false,
     "grade_id": "task-import",
     "locked": true,
     "points": 3,
     "schema_version": 3,
     "solution": false,
     "task": true
    }
   },
   "source": [
    "## Set up your analysis\n",
    "\n",
    "In the following cell, import the libraries you use in this notebook, and change your working directory so that your paths are reproducible. Note that `earthpy` will download the data to `~` > `earth-analytics` > `data` >`spatial-vector-lidar`"
   ]
  },
  {
   "cell_type": "code",
   "execution_count": null,
   "metadata": {
    "deletable": false,
    "nbgrader": {
     "cell_type": "code",
     "checksum": "f5bbccf7b64313609a4249f171eb2933",
     "grade": false,
     "grade_id": "cell-daf8cca081a85475",
     "locked": false,
     "schema_version": 3,
     "solution": true,
     "task": false
    }
   },
   "outputs": [],
   "source": [
    "# YOUR CODE HERE\n",
    "raise NotImplementedError()"
   ]
  },
  {
   "cell_type": "markdown",
   "metadata": {
    "deletable": false,
    "editable": false,
    "nbgrader": {
     "cell_type": "markdown",
     "checksum": "75fd1b8b0d483f7a37ffdd5374b685d0",
     "grade": false,
     "grade_id": "bar2",
     "locked": true,
     "schema_version": 3,
     "solution": false,
     "task": false
    }
   },
   "source": [
    "![Colored Bar](colored-bar.png)"
   ]
  },
  {
   "cell_type": "markdown",
   "metadata": {
    "deletable": false,
    "editable": false,
    "nbgrader": {
     "cell_type": "markdown",
     "checksum": "1176e0952de7be2d87c114e4f502f861",
     "grade": false,
     "grade_id": "sjer-lidar-insitu-instructions",
     "locked": true,
     "points": 30,
     "schema_version": 3,
     "solution": false,
     "task": true
    }
   },
   "source": [
    "## SJER Lidar vs Insitu Comparison Plots\n",
    "You will use the following SJER data for this figure:\n",
    "* `spatial-vector-lidar/california/neon-sjer-site/2013/insitu/veg_structure/D17_2013_SJER_vegStr.csv`\n",
    "* `spatial-vector-lidar/california/neon-sjer-site/vector_data/SJER_plot_centroids.shp`\n",
    "\n",
    "Create a figure with 2 subplots for the NEON San Joaquin Experimental Range (SJER) field site.\n",
    "* Plot 1 should show **max** lidar vs insitu height with lidar on the x axis and insitu height on the y axis.\n",
    "* Plot 2 should show **mean** lidar vs insitu height with lidar on the x axis and insitu height on the y axis.\n",
    "\n",
    "For each plot:\n",
    "1. Set the x and y lims to be the same range: `(0, 30)` using `xlim=` and `ylim=`. This will make the plots more comparable.\n",
    "2. Add a title that includes the field site name and the measurement being displayed (max or min height).\n",
    "3. Add a 1:1 line to each plot.\n",
    "4. Add a regression line using `sns.regplot()`. SNS is the alias for the seaborn plotting package (`import seaborn as sns`).\n",
    "\n",
    "To create this plot, you will need to calculate a summary data frame for each site that contains both the lidar mean and max values and insitu (measured on the ground by humans) mean and max values. In the following cell, compute the summary values for the LiDAR data. **For the tests to work, rename your summary columns `lidar_max` and `lidar_mean`, and call your `GeoDataFrame`at the end of your answer cell.**\n"
   ]
  },
  {
   "cell_type": "code",
   "execution_count": null,
   "metadata": {
    "deletable": false,
    "nbgrader": {
     "cell_type": "code",
     "checksum": "049120c634b224d947de9cd23bc53bba",
     "grade": false,
     "grade_id": "open-sjer-lidar-data",
     "locked": false,
     "schema_version": 3,
     "solution": true,
     "task": false
    }
   },
   "outputs": [],
   "source": [
    "# YOUR CODE HERE\n",
    "raise NotImplementedError()"
   ]
  },
  {
   "cell_type": "code",
   "execution_count": null,
   "metadata": {
    "deletable": false,
    "editable": false,
    "nbgrader": {
     "cell_type": "code",
     "checksum": "d3f83142eff782630bb4d7df5f74870c",
     "grade": true,
     "grade_id": "sjer-lidar-dataset-test",
     "locked": true,
     "points": 7,
     "schema_version": 3,
     "solution": false,
     "task": false
    }
   },
   "outputs": [],
   "source": [
    "# Tests that the new columns exist and have the correct values\n",
    "# IMPORTANT: Make sure you called the dataframe with the new columns at the end of the above cell.\n",
    "# Do not modify this cell\n",
    "student_sjer_lidar_sum = _\n",
    "student_sjer_lidar_points = 0\n",
    "\n",
    "if isinstance(student_sjer_lidar_sum, gpd.GeoDataFrame):\n",
    "    print(\"\\u2705 Great job! Your data are stored in a GeoDataFrame!\")\n",
    "    student_sjer_lidar_points += 1\n",
    "else:\n",
    "    print(\"\\u274C Oops, the data are not stored in a GeoDataFrame.\")\n",
    "\n",
    "student_colunms = student_sjer_lidar_sum.columns\n",
    "\n",
    "if 'lidar_max' in student_colunms:\n",
    "    print(\"\\u2705 Dataset has the correct column name for the maximum values!\")\n",
    "    student_sjer_lidar_points += 1\n",
    "else:\n",
    "    print(\"\\u274C Oops, the dataset does not have the correct column name \"\n",
    "          \"for the maximum values.\")\n",
    "\n",
    "if 'lidar_mean' in student_colunms:\n",
    "    print(\"\\u2705 Dataset has the correct column name for the mean values!\")\n",
    "    student_sjer_lidar_points += 1\n",
    "else:\n",
    "    print(\"\\u274C Oops, the dataset does not have the correct column name \"\n",
    "          \"for the mean values.\")\n",
    "\n",
    "if round(sjer_lidar_mean_max_answer.lidar_max.mean(), 2)==14.46:\n",
    "    print(\"\\u2705 Great - you correctly calculated the maximum values \"\n",
    "          \"for each plot from lidar values!\")\n",
    "    student_sjer_lidar_points += 2\n",
    "else:\n",
    "    print(\"\\u274C Oops - looks like your data frame values were not \"\n",
    "          \"correct.\")\n",
    "\n",
    "if round(sjer_lidar_mean_max_answer.lidar_mean.mean(), 2)==7.56:\n",
    "    print(\"\\u2705 Great - you correctly calculated the mean values for each \"\n",
    "          \"plot from lidar values!\")\n",
    "    student_sjer_lidar_points += 2\n",
    "else:\n",
    "    print(\"\\u274C Oops - looks like your data frame values were not correct.\")\n",
    "\n",
    "print(\"\\n \\u27A1 You received {} out of 7 points for calculating \"\n",
    "      \"lidar values.\".format(student_sjer_lidar_points))\n",
    "\n",
    "student_sjer_lidar_points"
   ]
  },
  {
   "cell_type": "markdown",
   "metadata": {},
   "source": [
    "In the following cell, compute the summary values for the insitu data, and merge the results with the LiDAR GeoDataFrame. **Name the new columns `insitu_max` and `insitu_mean` and call the completed `GeoDataFrame` at the end of you answer cell for the tests to work**"
   ]
  },
  {
   "cell_type": "code",
   "execution_count": null,
   "metadata": {
    "deletable": false,
    "nbgrader": {
     "cell_type": "code",
     "checksum": "6625fe89c7c5b237545056ed935014fb",
     "grade": false,
     "grade_id": "sjer-group-insitu-data",
     "locked": false,
     "schema_version": 3,
     "solution": true,
     "task": false
    }
   },
   "outputs": [],
   "source": [
    "# YOUR CODE HERE\n",
    "raise NotImplementedError()"
   ]
  },
  {
   "cell_type": "code",
   "execution_count": null,
   "metadata": {
    "deletable": false,
    "editable": false,
    "nbgrader": {
     "cell_type": "code",
     "checksum": "d670fe762789447d25751ff5c2af1de6",
     "grade": true,
     "grade_id": "sjer-insitu-dataset-test",
     "locked": true,
     "points": 8,
     "schema_version": 3,
     "solution": false,
     "task": false
    }
   },
   "outputs": [],
   "source": [
    "# Tests that the new columns exist and have the correct values\n",
    "# IMPORTANT: Make sure you called the dataframe with the new columns at the end of the above cell.\n",
    "# Do not modify this cell\n",
    "\n",
    "student_sjer_insitu_sum = _\n",
    "student_sjer_insitu_points = 0\n",
    "\n",
    "if isinstance(student_sjer_insitu_sum, gpd.GeoDataFrame):\n",
    "    print(\"\\u2705 Great job! Your data are stored in a GeoDataFrame!\")\n",
    "    student_sjer_insitu_points += 1\n",
    "else:\n",
    "    print(\"\\u274C Oops, the data are not stored in a GeoDataFrame.\")\n",
    "\n",
    "student_columns = student_sjer_insitu_sum.columns\n",
    "\n",
    "if 'insitu_max' in student_columns:\n",
    "    print(\"\\u2705 Dataset has the correct column name for the maximum values!\")\n",
    "    student_sjer_insitu_points += 1\n",
    "else:\n",
    "    print(\"\\u274C Oops, the dataset does not have the correct column name \"\n",
    "          \"for the maximum values.\")\n",
    "\n",
    "if 'insitu_mean' in student_columns:\n",
    "    print(\"\\u2705 Dataset has the correct column name for the mean values!\")\n",
    "    student_sjer_insitu_points += 1\n",
    "else:\n",
    "    print(\"\\u274C Oops, the dataset does not have the correct column \"\n",
    "          \"name for the mean values.\")\n",
    "    \n",
    "if 'lidar_mean' in student_columns and 'lidar_max' in student_columns:\n",
    "    print(\"\\u2705 Dataset correctly merged!\")\n",
    "    student_sjer_insitu_points += 1\n",
    "else:\n",
    "    print(\"\\u274C Oops, the insitu and lidar datasets were not merged.\")\n",
    "\n",
    "\n",
    "if round(student_sjer_insitu_sum.insitu_max.mean(), 2)==13.98:\n",
    "    print(\"\\u2705 Great - you correctly calculated the maximum values for \"\n",
    "          \"each plot from insitu values!\")\n",
    "    student_sjer_insitu_points += 2\n",
    "else:\n",
    "    print(\"\\u274C Oops - looks like your data frame values were not correct.\")\n",
    "\n",
    "if round(student_sjer_insitu_sum.insitu_mean.mean(), 2)==5.61:\n",
    "    print(\"\\u2705 Great - you correctly calculated the mean values for \"\n",
    "          \"each plot from lidar values!\")\n",
    "    student_sjer_insitu_points += 2\n",
    "else:\n",
    "    print(\"\\u274C Oops - looks like your data frame values were not correct.\")\n",
    "\n",
    "print(\"\\n \\u27A1 You received {} out of 8 points for calculating \"\n",
    "      \"insitu values.\".format(student_sjer_insitu_points))\n",
    "student_sjer_insitu_points"
   ]
  },
  {
   "cell_type": "code",
   "execution_count": null,
   "metadata": {},
   "outputs": [],
   "source": [
    "In the cell below, plot the SJER data as specified above."
   ]
  },
  {
   "cell_type": "code",
   "execution_count": null,
   "metadata": {
    "caption": "Plots of lidar min and max vs insitu min and max with a 1:1 line a regression fit for the NEON SJER field site.",
    "deletable": false,
    "nbgrader": {
     "cell_type": "code",
     "checksum": "66a9508f503c67dc075fe44b145c8138",
     "grade": false,
     "grade_id": "plot-sjer-data",
     "locked": false,
     "schema_version": 3,
     "solution": true,
     "task": false
    }
   },
   "outputs": [],
   "source": [
    "# YOUR CODE HERE\n",
    "raise NotImplementedError()"
   ]
  },
  {
   "cell_type": "markdown",
   "metadata": {
    "deletable": false,
    "editable": false,
    "nbgrader": {
     "cell_type": "markdown",
     "checksum": "ca743e3ba3abb67f99324cfb74404f1a",
     "grade": false,
     "grade_id": "soap-lidar-insitu-instructions",
     "locked": true,
     "schema_version": 3,
     "solution": false,
     "task": false
    }
   },
   "source": [
    "## Figure 2: Plots 3 & 4 - SOAP Lidar vs Insitu Comparison Plots (15 points for each subplot)\n",
    "\n",
    "You will use the following SOAP data for this figure:\n",
    "* `spatial-vector-lidar/california/neon-soap-site/2013/insitu/veg-structure/D17_2013_SOAP_vegStr.csv`\n",
    "* `spatial-vector-lidar/california/neon-soap-site/vector_data/SOAP_centroids.shp`\n",
    "\n",
    "Create a figure with 2 subplots for the NEON Soaproot Saddle (SOAP) field site.\n",
    "* Plot 1 should show **max** lidar vs insitu height with lidar on the x axis and insitu height on the y axis.\n",
    "* Plot 2 should show **mean** lidar vs insitu height with lidar on the x axis and insitu height on the y axis.\n",
    "\n",
    "For each plot:\n",
    "\n",
    "1. Set the x and y lims to be the same range using `xlim=` and `ylim=`: \n",
    "    * `(0, 140)` for the SOAP Max height plot. \n",
    "    * `(0, 40)` for the SOAP Mean height plot. \n",
    "2. Add a title that includes the field site name and the measurement being displayed (max or min height).\n",
    "3. Add a 1:1 line to each plot.\n",
    "4. Add a regression line using `sns.regplot()`\n",
    "\n",
    "To create this plot, you will need to calculate a summary data frame for each site that contains lidar mean and max values and insitu (measured on the ground by humans) mean and max values.\n",
    "\n",
    "**HINT**: the SOAP data have some inconsistencies in the column headings. One way to fix this is to use the syntax: \n",
    "\n",
    "`\"text-to-append-to-column\" + dataframe_name[\"column-name-here\"]`\n",
    "\n",
    "In the following cell, import and process the SOAP data like you did the SJER data. **Make sure to call your combined `GeoDataFrame` at the end of cell for the test cell to work.**"
   ]
  },
  {
   "cell_type": "code",
   "execution_count": null,
   "metadata": {
    "deletable": false,
    "nbgrader": {
     "cell_type": "code",
     "checksum": "e11537d70c4c1befc0c5c86fdaecac4a",
     "grade": false,
     "grade_id": "open-soap-lidar-data",
     "locked": false,
     "schema_version": 3,
     "solution": true,
     "task": false
    }
   },
   "outputs": [],
   "source": [
    "# YOUR CODE HERE\n",
    "raise NotImplementedError()"
   ]
  },
  {
   "cell_type": "code",
   "execution_count": null,
   "metadata": {
    "deletable": false,
    "editable": false,
    "nbgrader": {
     "cell_type": "code",
     "checksum": "7f2045641c519537e3883e5065787de6",
     "grade": true,
     "grade_id": "soap-lidar-dataset-test",
     "locked": true,
     "points": 13,
     "schema_version": 3,
     "solution": false,
     "task": false
    }
   },
   "outputs": [],
   "source": [
    "student_soap_gdf = _\n",
    "student_soap_points = 0\n",
    "\n",
    "if isinstance(student_soap_gdf, gpd.GeoDataFrame):\n",
    "    print(\"\\u2705 Great job! Your data are stored in a GeoDataFrame!\")\n",
    "    student_soap_points += 1\n",
    "else:\n",
    "    print(\"\\u274C Oops, the data are not stored in a GeoDataFrame.\")\n",
    "\n",
    "student_columns = student_soap_gdf.columns\n",
    "\n",
    "if 'lidar_max' in student_columns:\n",
    "    print(\"\\u2705 Dataset has the correct column name for the maximum \"\n",
    "          \"values!\")\n",
    "    student_soap_points += 1\n",
    "else:\n",
    "    print(\"\\u274C Oops, the dataset does not have the correct column \"\n",
    "          \"name for the maximum values.\")\n",
    "\n",
    "if 'lidar_mean' in student_columns:\n",
    "    print(\"\\u2705 Dataset has the correct column name for the mean values!\")\n",
    "    student_soap_points += 1\n",
    "else:\n",
    "    print(\"\\u274C Oops, the dataset does not have the correct column name \"\n",
    "          \"for the mean values.\")\n",
    "\n",
    "if 'insitu_max' in student_colunms:\n",
    "    print(\"\\u2705 Dataset has the correct column name for the maximum values!\")\n",
    "    student_soap_points += 1\n",
    "else:\n",
    "    print(\"\\u274C Oops, the dataset does not have the correct column name \"\n",
    "          \"for the maximum values.\")\n",
    "\n",
    "if 'insitu_mean' in student_colunms:\n",
    "    print(\"\\u2705 Dataset has the correct column name for the mean values!\")\n",
    "    student_soap_points += 1\n",
    "else:\n",
    "    print(\"\\u274C Oops, the dataset does not have the correct column name \"\n",
    "          \"for the mean values.\")\n",
    "\n",
    "student_summary = (\n",
    "    student_soap_gdf\n",
    "   [['lidar_max', 'lidar_mean', 'insitu_max', 'insitu_mean']]\n",
    "   .mean()\n",
    "   .apply(lambda x: round(x, 2))\n",
    "   .values)\n",
    "\n",
    "if all(student_summary==[33.54, 13.87, 40.68,  5.06]):\n",
    "    print(\"\\u2705 Great - you correctly calculated summary values!\")\n",
    "    student_soap_points += 8\n",
    "else:\n",
    "    print(\"\\u274C Oops - looks like your data frame values were not correct.\")\n",
    "\n",
    "print(\"\\n \\u27A1 You received {} out of 13 points for calculating lidar \"\n",
    "      \"values.\".format(student_soap_points))\n",
    "student_soap_points\n"
   ]
  },
  {
   "cell_type": "markdown",
   "metadata": {
    "deletable": false,
    "editable": false,
    "nbgrader": {
     "cell_type": "markdown",
     "checksum": "27b61ecc481a832b0511c01fad86463e",
     "grade": false,
     "grade_id": "cell-8895489cfc5d7859",
     "locked": true,
     "points": 4,
     "schema_version": 3,
     "solution": false,
     "task": true
    }
   },
   "source": [
    "### In the cell below plot the SOAP site values the same way your plotted the SJER site values"
   ]
  },
  {
   "cell_type": "code",
   "execution_count": null,
   "metadata": {
    "caption": "Plots of lidar min and max vs insitu min and max with a 1:1 line a regression fit for the NEON SOAP field site.",
    "deletable": false,
    "nbgrader": {
     "cell_type": "code",
     "checksum": "d4f3d49d184a5c32cd1f7c3e2b4644b4",
     "grade": false,
     "grade_id": "plot-soap-data",
     "locked": false,
     "schema_version": 3,
     "solution": true,
     "task": false
    }
   },
   "outputs": [],
   "source": [
    "# YOUR CODE HERE\n",
    "raise NotImplementedError()"
   ]
  },
  {
   "cell_type": "markdown",
   "metadata": {
    "deletable": false,
    "editable": false,
    "nbgrader": {
     "cell_type": "markdown",
     "checksum": "396ace7201bd2273c56859f222179f7d",
     "grade": false,
     "grade_id": "bar3",
     "locked": true,
     "schema_version": 3,
     "solution": false,
     "task": false
    }
   },
   "source": [
    "![Colored Bar](colored-bar.png)"
   ]
  },
  {
   "cell_type": "markdown",
   "metadata": {
    "deletable": false,
    "editable": false,
    "nbgrader": {
     "cell_type": "markdown",
     "checksum": "7c9acd8481f41ed88fd1aa8653af416b",
     "grade": false,
     "grade_id": "plot-1-questions",
     "locked": true,
     "schema_version": 3,
     "solution": false,
     "task": false
    }
   },
   "source": [
    "## Question 1 Figure One: SJER mean vs max height -- Plots 1 and 2 Interpretation\n",
    "In the markdown cell below, answer the following questions:\n",
    "\n",
    "1. Looking at the plots above, which metric: mean or max height, has a stronger relationship or is closer to a one:one relationship?\n",
    "2. List one reason why mean or max (whatever you answered for question 1 above) has a stronger relationship.\n",
    "\n",
    "You answers can be brief -- a single word or sentence or two is fine. "
   ]
  },
  {
   "cell_type": "markdown",
   "metadata": {
    "deletable": false,
    "nbgrader": {
     "cell_type": "markdown",
     "checksum": "6d4a67998f2426ead40428d9f3aca4e5",
     "grade": true,
     "grade_id": "plot-1-answers",
     "locked": false,
     "points": 5,
     "schema_version": 3,
     "solution": true,
     "task": false
    }
   },
   "source": [
    "YOUR ANSWER HERE"
   ]
  },
  {
   "cell_type": "markdown",
   "metadata": {
    "deletable": false,
    "editable": false,
    "nbgrader": {
     "cell_type": "markdown",
     "checksum": "dc27ba4919447e29b803a05515bb3e7a",
     "grade": false,
     "grade_id": "bar4",
     "locked": true,
     "schema_version": 3,
     "solution": false,
     "task": false
    }
   },
   "source": [
    "![Colored Bar](colored-bar.png)"
   ]
  },
  {
   "cell_type": "markdown",
   "metadata": {
    "deletable": false,
    "editable": false,
    "nbgrader": {
     "cell_type": "markdown",
     "checksum": "747eb19abfe45d1ed213326d35d307a7",
     "grade": false,
     "grade_id": "data-relate-questions",
     "locked": true,
     "schema_version": 3,
     "solution": false,
     "task": false
    }
   },
   "source": [
    "\n",
    "## Question 2. Of all four relationships that you plotted above, which site (SOAP or SJER) and metric (mean or max height) showed the strongest relationship? \n",
    "\n",
    "**A strong relationship is one that is closer to 1:1 in this case.**\n",
    "\n",
    "Add your answer in the markdown cell below. It can be short - 2-5 sentences. You do not need to perform any additional calculations. Consider the readings and the data and suggest why a particular metric might have a strong relationship."
   ]
  },
  {
   "cell_type": "markdown",
   "metadata": {
    "deletable": false,
    "nbgrader": {
     "cell_type": "markdown",
     "checksum": "48cf149fe4e1c45f60c5eb840fb1f935",
     "grade": true,
     "grade_id": "data-relate-answers",
     "locked": false,
     "points": 5,
     "schema_version": 3,
     "solution": true,
     "task": false
    },
    "slideshow": {
     "slide_type": "slide"
    }
   },
   "source": [
    "YOUR ANSWER HERE"
   ]
  },
  {
   "cell_type": "markdown",
   "metadata": {
    "deletable": false,
    "editable": false,
    "nbgrader": {
     "cell_type": "markdown",
     "checksum": "d3027879415058268fc0f4ed337ed1c8",
     "grade": false,
     "grade_id": "bar5",
     "locked": true,
     "schema_version": 3,
     "solution": false,
     "task": false
    }
   },
   "source": [
    "![Colored Bar](colored-bar.png)"
   ]
  },
  {
   "cell_type": "markdown",
   "metadata": {
    "deletable": false,
    "editable": false,
    "nbgrader": {
     "cell_type": "markdown",
     "checksum": "0631c06328e3db710bd5a534f303c66b",
     "grade": false,
     "grade_id": "measure-diff-question",
     "locked": true,
     "schema_version": 3,
     "solution": false,
     "task": false
    }
   },
   "source": [
    "## Question 3. List 2 reasons why lidar max height values may be larger than human measurements.\n",
    "\n",
    "Add your answer to the markdown cell below."
   ]
  },
  {
   "cell_type": "markdown",
   "metadata": {
    "deletable": false,
    "nbgrader": {
     "cell_type": "markdown",
     "checksum": "c51a6f790505dc531bc0b7b8f9ef4e0c",
     "grade": true,
     "grade_id": "measure-diff-answers",
     "locked": false,
     "points": 5,
     "schema_version": 3,
     "solution": true,
     "task": false
    }
   },
   "source": [
    "YOUR ANSWER HERE"
   ]
  },
  {
   "cell_type": "markdown",
   "metadata": {
    "deletable": false,
    "editable": false,
    "nbgrader": {
     "cell_type": "markdown",
     "checksum": "4300d614b6573172961bb995915cc9c9",
     "grade": false,
     "grade_id": "bar6",
     "locked": true,
     "schema_version": 3,
     "solution": false,
     "task": false
    }
   },
   "source": [
    "![Colored Bar](colored-bar.png)"
   ]
  },
  {
   "cell_type": "markdown",
   "metadata": {
    "deletable": false,
    "editable": false,
    "nbgrader": {
     "cell_type": "markdown",
     "checksum": "74a234724e0f2a4ef2fc634ceb2040d6",
     "grade": false,
     "grade_id": "systemic-error-question",
     "locked": true,
     "schema_version": 3,
     "solution": false,
     "task": false
    }
   },
   "source": [
    "## Question 4. List 2 systematic sources of error could impact differences between lidar and measured tree height values ( 5 points)\n",
    "\n",
    "Add your answer in the markdown cell below."
   ]
  },
  {
   "cell_type": "markdown",
   "metadata": {
    "deletable": false,
    "nbgrader": {
     "cell_type": "markdown",
     "checksum": "e901b357454d2556bde925dd7dc199af",
     "grade": true,
     "grade_id": "systemic-error-answer",
     "locked": false,
     "points": 5,
     "schema_version": 3,
     "solution": true,
     "task": false
    }
   },
   "source": [
    "YOUR ANSWER HERE"
   ]
  },
  {
   "cell_type": "markdown",
   "metadata": {
    "deletable": false,
    "editable": false,
    "nbgrader": {
     "cell_type": "markdown",
     "checksum": "f849d9cddb07001289ccff6d453f1701",
     "grade": false,
     "grade_id": "bar7",
     "locked": true,
     "schema_version": 3,
     "solution": false,
     "task": false
    }
   },
   "source": [
    "![Colored Bar](colored-bar.png)"
   ]
  },
  {
   "cell_type": "markdown",
   "metadata": {
    "deletable": false,
    "editable": false,
    "nbgrader": {
     "cell_type": "markdown",
     "checksum": "4322c0f3e4b062cdc4efe58ec497f28f",
     "grade": false,
     "grade_id": "random-error-question",
     "locked": true,
     "schema_version": 3,
     "solution": false,
     "task": false
    }
   },
   "source": [
    "## Question 5. List 2 random sources of error that could impact differences between lidar and measured tree height values.  (5 points)\n",
    "\n",
    "Add your answer to the markdown cell below. Note that you can provide sources of random error for lidar OR insitu measurements. You only need two total examples. "
   ]
  },
  {
   "cell_type": "markdown",
   "metadata": {
    "deletable": false,
    "nbgrader": {
     "cell_type": "markdown",
     "checksum": "d450638c322c4abf6483d255d72a8509",
     "grade": true,
     "grade_id": "random-error-answer",
     "locked": false,
     "points": 5,
     "schema_version": 3,
     "solution": true,
     "task": false
    }
   },
   "source": [
    "YOUR ANSWER HERE"
   ]
  },
  {
   "cell_type": "markdown",
   "metadata": {
    "deletable": false,
    "editable": false,
    "nbgrader": {
     "cell_type": "markdown",
     "checksum": "c7f95b06ea35fdce73449bbded31e351",
     "grade": false,
     "grade_id": "bar8",
     "locked": true,
     "schema_version": 3,
     "solution": false,
     "task": false
    }
   },
   "source": [
    "![Colored Bar](colored-bar.png)"
   ]
  },
  {
   "cell_type": "markdown",
   "metadata": {
    "deletable": false,
    "editable": false,
    "nbgrader": {
     "cell_type": "markdown",
     "checksum": "8fe6d1680d57c371140cb6351a5e470b",
     "grade": false,
     "grade_id": "pep8",
     "locked": true,
     "points": 10,
     "schema_version": 3,
     "solution": false,
     "task": true
    }
   },
   "source": [
    "\n",
    "# Do not edit this cell!\n",
    "* Notebook begins at cell [1] and runs on any machine in its entirety.\n",
    "* Pep8 format is applied throughout.\n",
    "* Notebook is fully reproducible. This means:\n",
    "   * reproducible paths using the os module\n",
    "   * data downloaded using code in the notebook."
   ]
  }
 ],
 "metadata": {
  "kernelspec": {
   "display_name": "Python 3 (ipykernel)",
   "language": "python",
   "name": "python3"
  },
  "language_info": {
   "codemirror_mode": {
    "name": "ipython",
    "version": 3
   },
   "file_extension": ".py",
   "mimetype": "text/x-python",
   "name": "python",
   "nbconvert_exporter": "python",
   "pygments_lexer": "ipython3",
   "version": "3.8.12"
  },
  "toc": {
   "base_numbering": 1,
   "nav_menu": {},
   "number_sections": true,
   "sideBar": true,
   "skip_h1_title": false,
   "title_cell": "Table of Contents",
   "title_sidebar": "Contents",
   "toc_cell": false,
   "toc_position": {},
   "toc_section_display": true,
   "toc_window_display": true
  },
  "varInspector": {
   "cols": {
    "lenName": 16,
    "lenType": 16,
    "lenVar": 40
   },
   "kernels_config": {
    "python": {
     "delete_cmd_postfix": "",
     "delete_cmd_prefix": "del ",
     "library": "var_list.py",
     "varRefreshCmd": "print(var_dic_list())"
    },
    "r": {
     "delete_cmd_postfix": ") ",
     "delete_cmd_prefix": "rm(",
     "library": "var_list.r",
     "varRefreshCmd": "cat(var_dic_list()) "
    }
   },
   "types_to_exclude": [
    "module",
    "function",
    "builtin_function_or_method",
    "instance",
    "_Feature"
   ],
   "window_display": false
  }
 },
 "nbformat": 4,
 "nbformat_minor": 2
}
